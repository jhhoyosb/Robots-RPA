{
  "cells": [
    {
      "cell_type": "markdown",
      "metadata": {
        "id": "view-in-github",
        "colab_type": "text"
      },
      "source": [
        "<a href=\"https://colab.research.google.com/github/jhhoyosb/Robots-RPA/blob/main/2023_CuadernoPractica02.ipynb\" target=\"_parent\"><img src=\"https://colab.research.google.com/assets/colab-badge.svg\" alt=\"Open In Colab\"/></a>"
      ]
    },
    {
      "cell_type": "markdown",
      "metadata": {
        "id": "U99IHoHw2VvD"
      },
      "source": [
        "<div align=\"left\">\n",
        "<p><img alt=\"IUDigital\" height=\"140px\" src=\"https://www.iudigital.edu.co/Style%20Library/images/logo-escudo.png\" align=\"left\" hspace=\"10px\" vspace=\"0px\"></p></div>\n",
        "<div> </div>\n",
        "<div align=\"right\">\n",
        "<p><img alt=\"Posgrado\" height=\"140px\" src=\"https://www.iudigital.edu.co/OfertaEducativa/PublishingImages/Paginas/Tecnologia-en-Desarrollo-de-Software/19072021_Tecnologia_Dllo_Software_1200px.jpg\" align=\"right\" hspace=\"10px\" vspace=\"10px\"></p></div>\n",
        "<br></br>\n",
        "<br></br>\n",
        "<br></br>\n",
        "<br></br>\n",
        "<p>\n",
        "<h1> <b> Pensamiento Algorítmico </b> </h1>\n",
        "<hr size=10 noshade color=\"red\">\n",
        "</p>\n",
        "<p>\n",
        "<img alt=\"CC\" height=\"70px\" src=\"https://creativecommons.org/images/deed/cc_blue_x2.png\" align=\"left\" hspace=\"0px\" vspace=\"0px\">\n",
        "<img alt=\"Attribution\" height=\"70px\" src=\"https://creativecommons.org/images/deed/attribution_icon_blue_x2.png\" align=\"left\" hspace=\"0px\" vspace=\"0px\">\n",
        "<img alt=\"NC\" height=\"70px\" src=\"https://creativecommons.org/images/deed/nc_blue_x2.png\" align=\"left\" hspace=\"0px\" vspace=\"0px\">\n",
        "<img alt=\"SA\" height=\"70px\" src=\"https://creativecommons.org/images/deed/sa_blue_x2.png\" align=\"left\" hspace=\"0px\" vspace=\"0px\">\n",
        "</p>\n",
        "<div align=\"right\">\n",
        "<h1> <b> <Impartido Por: Boris Salleg R. </b> </h1>\n",
        "<h2> Docente Ocasional </h2>\n",
        "<a href=\"mailto:boris.salleg@iudigital.edu.coo\"> ✉ Boris Salleg Royero </a>\n",
        "</div>\n",
        "<div align=\"right\">\n",
        "<h1> <b> Creado Por: Julián Andrés Castillo G. </b> </h1>\n",
        "<h2> Docente Ocasional </h2>\n",
        "<a href=\"mailto:julian.castillo@iudigital.edu.co\"> ✉ Julian Andres Castillo Grisales </a>\n",
        "</div>\n",
        "\n",
        "<br>\n",
        "\n",
        "**El presente curso hace parte del pregrado Tecnología en Desarrollo de Software de la Institución Universitaria Digital de Antioquia.**\n",
        "\n",
        "**Los documentos que utilizaremos en la presente y próximas clases son una mezcla del trabajo de muchos profesores y académicos.**\n",
        "\n",
        "**En caso de utilizar el presente contenido favor citarlo y brindar los créditos respectivos.**"
      ]
    },
    {
      "cell_type": "markdown",
      "metadata": {
        "id": "2ogJMFJBL-gH"
      },
      "source": [
        "<p><a name=\"contents\"></a></p>\n",
        "\n",
        "# **Contenido Cuaderno de práctica 2**\n",
        "\n",
        "- <a href=\"#s1\">01. Introducción al lenguaje de programación Python</a><br>\n",
        "- <a href=\"#s2\">02. Módulos, Librerías, ayudas y descripciones</a><br>\n",
        "- <a href=\"#s3\">03. Variables</a><br>\n",
        "- <a href=\"#s4\">04. Tipos de Datos</a><br>"
      ]
    },
    {
      "cell_type": "markdown",
      "metadata": {
        "id": "OvIAmnOXSjUb"
      },
      "source": [
        "<p><a name=\"s1\"></a></p>\n",
        "\n",
        "# **01. Introducción al lenguaje de programación Python**\n",
        "<p>\n",
        "El presente documento está basado en los siguientes libros:\n",
        "\n",
        "*   Python Website. (2021). Python 3.9.1 documentation. Retrieved February 03, 2021, from https://docs.python.org/\n",
        "*   W3schools.com. (2021). Python tutorial. Retrieved February 04, 2021, from https://www.w3schools.com/python/default.asp\n",
        "*   Martelli, A., Ravenscroft, A., & Ascher, D. (2005). Python cookbook. \" O'Reilly\n",
        "*   Sweigart, A. (2019). Automate the boring stuff with Python: practical programming for total beginners. No Starch Press.\n",
        "*   Ziadé, T. (2008). Expert Python Programming. Packt Publishing Ltd.\n",
        "*   Pilgrim, M., & Willison, S. (2009). Dive Into Python 3 (Vol. 2). Apress.\n",
        "</p>\n",
        "\n",
        "[[Contenidos]](#contents)"
      ]
    },
    {
      "cell_type": "markdown",
      "metadata": {
        "id": "2ZFYf7gqBAqu"
      },
      "source": [
        "## **Python**\n",
        "<p>\n",
        "Python es un lenguaje de programación orientado a objetos claro y poderoso, comparable a Perl, Ruby, Scheme o Java. Fue creado por Guido van Rossum y fue lanzado en 1991, es usado comúnmente para: desarrollo web (del lado del servidor), desarrollo de software, matemáticas, secuencias de comandos del sistema.\n",
        "¿Qué puede hacer Python?, Python se puede utilizar en un servidor para crear aplicaciones web. Python se puede utilizar junto con el software para crear flujos de trabajo. Python puede conectarse a sistemas de bases de datos. También puede leer y modificar archivos. Python se puede utilizar para manejar big data y realizar matemáticas complejas. Python se puede utilizar para la creación rápida de prototipos o para el desarrollo de software listo para producción.\n",
        "\n",
        "Python fue diseñado para facilitar la lectura y tiene algunas similitudes con el idioma inglés con influencia de las matemáticas.\n",
        "Python usa nuevas líneas para completar un comando, a diferencia de otros lenguajes de programación que a menudo usan punto y coma o paréntesis.\n",
        "Python se basa en la sangría, usando espacios en blanco, para definir el alcance; como el alcance de los bucles, funciones y clases. Otros lenguajes de programación suelen utilizar corchetes para este propósito.\n",
        "\n",
        "</p>"
      ]
    },
    {
      "cell_type": "markdown",
      "metadata": {
        "id": "Pi0WY9FRS_zI"
      },
      "source": [
        "\n",
        "## **Python y el sagrando o \"Indentation\" - 1**\n",
        "<p>\n",
        "\n",
        "La sangría se refiere a los espacios al comienzo de una línea de código.\n",
        "Mientras que en otros lenguajes de programación la sangría en el código es solo para legibilidad, la sangría en Python es muy importante.\n",
        "Python usa sangría para indicar un bloque de código.\n",
        "\n",
        "Python te dará un error si omite la sangría.\n",
        "\n",
        "El número de espacios depende de usted como programador, pero debe ser al menos uno.\n",
        "\n",
        "Tienes que usar la misma cantidad de espacios en el mismo bloque de código, de lo contrario Python te dará un error.\n",
        "\n",
        "</p>\n",
        "\n"
      ]
    },
    {
      "cell_type": "markdown",
      "metadata": {
        "id": "A82AJfrs9fKx"
      },
      "source": [
        "\n",
        "## **Python y el sagrando o \"Indentation\" - 2**\n",
        "<p>\n",
        "\n",
        "Mientras que en otros lenguajes de programación la sangría en el código es solo para legibilidad, la sangría en Python es muy importante. Python usa sangría para indicar un bloque de código.\n",
        "\n",
        ">Correcto\n",
        "```python\n",
        "if 10 > 1:\n",
        "  print(\"Diez es mayor que uno\")\n",
        "```\n",
        ">Incorrecto - Python te dará un error si omite la sangría:\n",
        "```python\n",
        "if 10 > 1:\n",
        "print(\"Diez es mayor que uno\")\n",
        "```\n",
        "</p>\n"
      ]
    },
    {
      "cell_type": "code",
      "execution_count": null,
      "metadata": {
        "id": "ZQsX6D1n-64U"
      },
      "outputs": [],
      "source": [
        "if 10 > 1: #Correcto\n",
        "  print(\"Diez es mayor que uno\")"
      ]
    },
    {
      "cell_type": "code",
      "execution_count": null,
      "metadata": {
        "id": "oy3UiioB--h5"
      },
      "outputs": [],
      "source": [
        "#Eliminar comentario y ejecutar\n",
        "#if 10 > 1: #Incorrecto\n",
        "#print(\"Diez es mayor que uno\")"
      ]
    },
    {
      "cell_type": "markdown",
      "metadata": {
        "id": "4F_N-e5OTEXg"
      },
      "source": [
        "\n",
        "## **Algunas de las características notables de Python:**\n",
        "<p>\n",
        "\n",
        "*   Utiliza una sintaxis elegante, lo que facilita la lectura de los programas que escribe.\n",
        "*   Es un lenguaje fácil de usar que simplifica el funcionamiento de su programa. Esto hace que Python sea ideal para el desarrollo de prototipos y otras tareas de programación ad-hoc, sin comprometer la mantenibilidad.\n",
        "*   Viene con una gran biblioteca estándar que admite muchas tareas de programación comunes, como conectarse a servidores web, buscar texto con expresiones regulares, leer y modificar archivos.\n",
        "El modo interactivo de Python facilita la prueba de pequeños fragmentos de código. También hay un entorno de desarrollo integrado llamado IDLE.\n",
        "*   Se amplía fácilmente añadiendo nuevos módulos implementados en un lenguaje compilado como C o C ++.\n",
        "*   También puede integrarse en una aplicación para proporcionar una interfaz programable.\n",
        "*   Se ejecuta en cualquier lugar, incluidos Mac OS X, Windows, Linux y Unix, con versiones no oficiales también disponibles para Android e iOS.\n",
        "*   Es software libre en dos sentidos. No cuesta nada descargar o usar Python, o incluirlo en su aplicación. Python también se puede modificar y redistribuir libremente porque, si bien el lenguaje tiene derechos de autor, está disponible bajo una licencia de código abierto.\n",
        "</p>\n",
        "\n"
      ]
    },
    {
      "cell_type": "markdown",
      "metadata": {
        "id": "pe7KdRtOTG6I"
      },
      "source": [
        "## **Algunas características del lenguaje de programación de Python son:**\n",
        "<p>\n",
        "\n",
        "*   Hay una variedad de tipos de datos básicos disponibles: números (enteros de punto flotante, complejos y de longitud ilimitada), cadenas (tanto ASCII como Unicode), listas y diccionarios.\n",
        "*   Python admite la programación orientada a objetos con clases y múltiples herencias.\n",
        "*   El código se puede agrupar en módulos y paquetes.\n",
        "*   El lenguaje admite la generación y captura de excepciones, lo que resulta en un manejo de errores más limpio.\n",
        "*   Los tipos de datos se escriben de forma fuerte y dinámica. La combinación de tipos incompatibles (por ejemplo, intentar agregar una cadena y un número) provoca que se genere una excepción, por lo que los errores se detectan antes.\n",
        "*   Python contiene funciones de programación avanzadas como generadores y listas por comprensión.\n",
        "*   La gestión automática de memoria de Python le libera de tener que asignar y liberar memoria manualmente en su código.\n",
        "</p>"
      ]
    },
    {
      "cell_type": "markdown",
      "metadata": {
        "id": "5h6DmOKjTIa_"
      },
      "source": [
        "## **Comentarios**\n",
        "<p>\n",
        "\n",
        "Python tiene la capacidad de comentar a los efectos de la documentación en el código.\n",
        "Los comentarios comienzan con un # y Python representará el resto de la línea como un comentario:\n",
        "\n",
        "\n",
        "```python\n",
        "# Esto tiene formato de comentario\n",
        "```\n",
        "\n",
        "\n"
      ]
    },
    {
      "cell_type": "markdown",
      "metadata": {
        "id": "BYhkpyFm-kW_"
      },
      "source": [
        "<p><a name=\"s2\"></a></p>\n",
        "\n",
        "# **02. Módulos, Librerías, ayudas y descripciones**\n",
        "[[Contenidos]](#contents)\n",
        "<p>\n",
        "\n",
        "## **Módulos**\n",
        "\n",
        "Python tiene una forma de poner definiciones en un archivo y usarlas en un script o en una instancia interactiva del intérprete. Dicho archivo se denomina módulo; las definiciones de un módulo se pueden importar a otros módulos o al módulo principal (la colección de variables a las que tiene acceso en un script ejecutado en el nivel superior y en modo calculadora).\n",
        "Es similar al uso de librerías en otros lenguajes de programación, tales como  Java, C# o C++.</p>\n",
        "<p>\n",
        "Un módulo es un archivo que contiene definiciones y declaraciones de Python. El nombre del archivo es el nombre del módulo con el sufijo .py añadido. Dentro de un módulo, el nombre del módulo (como una cadena) está disponible como el valor de la variable global `__name__`.\n",
        "</p>\n",
        "<p>\n",
        "Un módulo puede contener sentencias ejecutables así como definiciones de funciones. Estas declaraciones están destinadas a inicializar el módulo. Se ejecutan solo la primera vez que se encuentra el nombre del módulo en una declaración de importación. (También se ejecutan si el archivo se ejecuta como un script).\n",
        "\n",
        "Cada módulo tiene su propia tabla de símbolos privada, que todas las funciones definidas en el módulo utilizan como tabla de símbolos global. Por lo tanto, el autor de un módulo puede usar variables globales en el módulo sin preocuparse por choques accidentales con las variables globales de un usuario. Por otro lado, si sabe lo que está haciendo, puede tocar las variables globales de un módulo con la misma notación utilizada para referirse a sus funciones, `modname.itemname`.\n",
        "\n",
        "Los módulos pueden importar otros módulos. Es habitual, pero no obligatorio, colocar todas las declaraciones de importación al principio de un módulo (o script, para el caso). Los nombres de los módulos importados se colocan en la tabla de símbolos global del módulo de importación.\n",
        "</p>\n"
      ]
    },
    {
      "cell_type": "markdown",
      "metadata": {
        "id": "6qnAjEnl0gQc"
      },
      "source": [
        "Cómo verificar la versión de Python a utilizar."
      ]
    },
    {
      "cell_type": "code",
      "execution_count": null,
      "metadata": {
        "id": "yUQcNsw2jRT-"
      },
      "outputs": [],
      "source": [
        "import sys #La palabra clave *import* llama el modulo o libreria para ser utilizada\n",
        "print(sys.version)\n",
        "print(sys.version_info)"
      ]
    },
    {
      "cell_type": "code",
      "execution_count": null,
      "metadata": {
        "id": "POxKW5yN-4Ny"
      },
      "outputs": [],
      "source": [
        "import platform\n",
        "import os\n",
        "print(os.name)\n",
        "print(platform.system())\n",
        "print(platform.machine())"
      ]
    },
    {
      "cell_type": "markdown",
      "metadata": {
        "id": "eypitHl2_fNN"
      },
      "source": [
        "## **POSIX y Linux**\n",
        "\n",
        "\n",
        "The Portable Operating System Interface (POSIX - en español Interfaz de sistema operativo portátil) es una familia de estándares especificados por IEEE Computer Society para mantener la compatibilidad entre sistemas operativos. POSIX define la interfaz de programación de aplicaciones (API), junto con entornos de línea de comandos e interfaces de utilidades, para la compatibilidad del software con variantes de Unix y otros sistemas operativos"
      ]
    },
    {
      "cell_type": "markdown",
      "metadata": {
        "id": "vwpMbX3-JZTS"
      },
      "source": [
        "## **Alias**\n",
        "\n",
        "En la mayoría de las ocasiones programables actuales, un entorno de programación requiere practicidad a la hora de escribir código, a lo cual se recomienda usar alias sobre los módulos importados, por ejemplo, al importar el módulo random se recomienda usar el alias rnd de la siguiente manera:"
      ]
    },
    {
      "cell_type": "code",
      "execution_count": null,
      "metadata": {
        "id": "dE0_GDvKKA_6"
      },
      "outputs": [],
      "source": [
        "import random as rnd\n",
        "dir(rnd)"
      ]
    },
    {
      "cell_type": "markdown",
      "metadata": {
        "id": "gDPNCyzKIhyX"
      },
      "source": [
        "La función `dir()` es usada para listar los nombres definidos en un módulo, esta función devuelve texto detallando la información solicitada."
      ]
    },
    {
      "cell_type": "code",
      "execution_count": null,
      "metadata": {
        "id": "ubYAGQ49Grk6"
      },
      "outputs": [],
      "source": [
        "dir(sys)"
      ]
    },
    {
      "cell_type": "markdown",
      "metadata": {
        "id": "1p4lCRE9BgbG"
      },
      "source": [
        "## **Guion bajo o “Underscore” en prefijos de funciones.**\n",
        "\n",
        "Los guiones bajos iniciales en los nombres de las variables de Python (por ejemplo, `_foo` y `__foo`) protegen a los desarrolladores de los conflictos de nombres. Un solo guion bajo delante de un nombre de variable (prefijo) es una pista de que una variable está destinada únicamente para uso interno. Un prefijo de subrayado doble hace que el intérprete de Python reescriba el nombre de la variable para evitar conflictos de nombres en las subclases. Los guiones bajos dobles también se denominan \"dunders\" en Python. El ejemplo a continuación detalla con conceptos avanzados para nuestro conocimiento actual, pero, a modo de ejemplo se puede interpretar el uso de 'underscores'."
      ]
    },
    {
      "cell_type": "code",
      "execution_count": null,
      "metadata": {
        "id": "DiFl0JnDCVYs"
      },
      "outputs": [],
      "source": [
        "class Ejemplo:\n",
        "    def __init__(self):\n",
        "        self.empanada = 1\n",
        "        self._dos = 2\n",
        "        self.__datos = 3\n",
        "ej = Ejemplo()\n",
        "print(ej)\n",
        "dir(ej)\n",
        "#Para evitar el manejo de varios nombres con valores de datos, Python renombra __datos con la clase.\n",
        "# \"'_Ejemplo__datos',\" y al final pone '_dos', 'empanada'"
      ]
    },
    {
      "cell_type": "markdown",
      "metadata": {
        "id": "heWddGgyz6F2"
      },
      "source": [
        "## **Instalar módulos o librerias**\n",
        "\n",
        "Pip es uno de los sistemas de administración de paquetes más famosos y utilizados para instalar y administrar paquetes de software escritos en Python y que se encuentran en Python Package Index [PyPI](https://pypi.org/). Pip es un acrónimo recursivo que puede significar `\"Pip Installs Packages\"` o `\"Pip Installs Python\"`. Alternativamente, pip significa `\"preferred installer program\"` o en español \"programa de instalación preferido\"."
      ]
    },
    {
      "cell_type": "markdown",
      "metadata": {
        "id": "nhche3HkO5p_"
      },
      "source": [
        "## **PyPI**\n",
        "The Python Package Index (PyPI) es un repositorio de software para el lenguaje de programación Python.\n",
        "\n",
        "A continuación una lista de los paquetes disponibles para la versión 3 de Python:\n",
        "[Clic aquí](https://pypi.org/search/?c=Programming+Language+%3A%3A+Python+%3A%3A+3)\n"
      ]
    },
    {
      "cell_type": "code",
      "execution_count": null,
      "metadata": {
        "id": "pTIhmas0zMyw"
      },
      "outputs": [],
      "source": [
        "#Con pip list verificamos todos los paquetes instaldos en la maquina actual que pueden importarse\n",
        "!pip list"
      ]
    },
    {
      "cell_type": "markdown",
      "metadata": {
        "id": "nAyA6sO_JS5X"
      },
      "source": [
        "Por ejemplo, el módulo pygame no se encuentra por defecto en la librería de Google Colab, por lo tanto, si deseamos utilizar dicha librería, debemos instalarla con la ayuda de pip."
      ]
    },
    {
      "cell_type": "code",
      "execution_count": null,
      "metadata": {
        "id": "2e9INkyhvvAA"
      },
      "outputs": [],
      "source": [
        "!pip install pygame"
      ]
    },
    {
      "cell_type": "code",
      "execution_count": null,
      "metadata": {
        "id": "-cCAak9Wvgqw"
      },
      "outputs": [],
      "source": [
        "import pygame"
      ]
    },
    {
      "cell_type": "markdown",
      "metadata": {
        "id": "HBG822xxmFJG"
      },
      "source": [
        "## **Ayudas acerca de los módulos**\n",
        "<p>\n",
        "\n",
        "**Funciones integradas**\n",
        "\n",
        "El intérprete de Python tiene una serie de funciones y tipos integrados que siempre están disponibles. Se enumeran aquí en orden alfabético.\n",
        "\n",
        "[Funciones](https://docs.python.org/3/library/functions.html)\n",
        "\n",
        "</p>\n",
        "<table>\n",
        "   <colgroup>\n",
        "      <col>\n",
        "      <col>\n",
        "      <col>\n",
        "      <col>\n",
        "      <col>\n",
        "   </colgroup>\n",
        "   <thead>\n",
        "      <tr>\n",
        "         <th></th>\n",
        "         <th></th>\n",
        "         <th>\n",
        "            <p>Built-in Functions</p>\n",
        "         </th>\n",
        "         <th></th>\n",
        "         <th></th>\n",
        "      </tr>\n",
        "   </thead>\n",
        "   <tbody>\n",
        "      <tr>\n",
        "         <td>\n",
        "            <p><a href=\"https://docs.python.org/3/library/functions.html\" title=\"abs\"><code class=\"xref py py-func docutils literal notranslate\"><span class=\"pre\">abs()</span></code></a></p>\n",
        "         </td>\n",
        "         <td>\n",
        "            <p><a href=\"https://docs.python.org/3/library/functions.html\" title=\"delattr\"><code class=\"xref py py-func docutils literal notranslate\"><span class=\"pre\">delattr()</span></code></a></p>\n",
        "         </td>\n",
        "         <td>\n",
        "            <p><a href=\"https://docs.python.org/3/library/functions.html\" title=\"hash\"><code class=\"xref py py-func docutils literal notranslate\"><span class=\"pre\">hash()</span></code></a></p>\n",
        "         </td>\n",
        "         <td>\n",
        "            <p><a href=\"https://docs.python.org/3/library/functions.html\"><code class=\"docutils literal notranslate\"><span class=\"pre\">memoryview()</span></code></a></p>\n",
        "         </td>\n",
        "         <td>\n",
        "            <p><a href=\"https://docs.python.org/3/library/functions.html\"><code class=\"docutils literal notranslate\"><span class=\"pre\">set()</span></code></a></p>\n",
        "         </td>\n",
        "      </tr>\n",
        "      <tr class=\"row-odd\">\n",
        "         <td>\n",
        "            <p><a href=\"https://docs.python.org/3/library/functions.html\" title=\"all\"><code class=\"xref py py-func docutils literal notranslate\"><span class=\"pre\">all()</span></code></a></p>\n",
        "         </td>\n",
        "         <td>\n",
        "            <p><a href=\"https://docs.python.org/3/library/functions.html\"><code class=\"docutils literal notranslate\"><span class=\"pre\">dict()</span></code></a></p>\n",
        "         </td>\n",
        "         <td>\n",
        "            <p><a href=\"https://docs.python.org/3/library/functions.html\" title=\"help\"><code class=\"xref py py-func docutils literal notranslate\"><span class=\"pre\">help()</span></code></a></p>\n",
        "         </td>\n",
        "         <td>\n",
        "            <p><a href=\"https://docs.python.org/3/library/functions.html\" title=\"min\"><code class=\"xref py py-func docutils literal notranslate\"><span class=\"pre\">min()</span></code></a></p>\n",
        "         </td>\n",
        "         <td>\n",
        "            <p><a href=\"https://docs.python.org/3/library/functions.html\" title=\"setattr\"><code class=\"xref py py-func docutils literal notranslate\"><span class=\"pre\">setattr()</span></code></a></p>\n",
        "         </td>\n",
        "      </tr>\n",
        "      <tr>\n",
        "         <td>\n",
        "            <p><a href=\"https://docs.python.org/3/library/functions.html\" title=\"any\"><code class=\"xref py py-func docutils literal notranslate\"><span class=\"pre\">any()</span></code></a></p>\n",
        "         </td>\n",
        "         <td>\n",
        "            <p><a href=\"https://docs.python.org/3/library/functions.html\" title=\"dir\"><code class=\"xref py py-func docutils literal notranslate\"><span class=\"pre\">dir()</span></code></a></p>\n",
        "         </td>\n",
        "         <td>\n",
        "            <p><a href=\"https://docs.python.org/3/library/functions.html\" title=\"hex\"><code class=\"xref py py-func docutils literal notranslate\"><span class=\"pre\">hex()</span></code></a></p>\n",
        "         </td>\n",
        "         <td>\n",
        "            <p><a href=\"https://docs.python.org/3/library/functions.html\" title=\"next\"><code class=\"xref py py-func docutils literal notranslate\"><span class=\"pre\">next()</span></code></a></p>\n",
        "         </td>\n",
        "         <td>\n",
        "            <p><a href=\"https://docs.python.org/3/library/functions.html\" title=\"slice\"><code class=\"xref py py-func docutils literal notranslate\"><span class=\"pre\">slice()</span></code></a></p>\n",
        "         </td>\n",
        "      </tr>\n",
        "      <tr class=\"row-odd\">\n",
        "         <td>\n",
        "            <p><a href=\"https://docs.python.org/3/library/functions.html\" title=\"ascii\"><code class=\"xref py py-func docutils literal notranslate\"><span class=\"pre\">ascii()</span></code></a></p>\n",
        "         </td>\n",
        "         <td>\n",
        "            <p><a href=\"https://docs.python.org/3/library/functions.html\" title=\"divmod\"><code class=\"xref py py-func docutils literal notranslate\"><span class=\"pre\">divmod()</span></code></a></p>\n",
        "         </td>\n",
        "         <td>\n",
        "            <p><a href=\"https://docs.python.org/3/library/functions.html\" title=\"id\"><code class=\"xref py py-func docutils literal notranslate\"><span class=\"pre\">id()</span></code></a></p>\n",
        "         </td>\n",
        "         <td>\n",
        "            <p><a href=\"https://docs.python.org/3/library/functions.html\" title=\"object\"><code class=\"xref py py-func docutils literal notranslate\"><span class=\"pre\">object()</span></code></a></p>\n",
        "         </td>\n",
        "         <td>\n",
        "            <p><a href=\"https://docs.python.org/3/library/functions.html\" title=\"sorted\"><code class=\"xref py py-func docutils literal notranslate\"><span class=\"pre\">sorted()</span></code></a></p>\n",
        "         </td>\n",
        "      </tr>\n",
        "      <tr>\n",
        "         <td>\n",
        "            <p><a href=\"https://docs.python.org/3/library/functions.html\" title=\"bin\"><code class=\"xref py py-func docutils literal notranslate\"><span class=\"pre\">bin()</span></code></a></p>\n",
        "         </td>\n",
        "         <td>\n",
        "            <p><a href=\"https://docs.python.org/3/library/functions.html\" title=\"enumerate\"><code class=\"xref py py-func docutils literal notranslate\"><span class=\"pre\">enumerate()</span></code></a></p>\n",
        "         </td>\n",
        "         <td>\n",
        "            <p><a href=\"https://docs.python.org/3/library/functions.html\" title=\"input\"><code class=\"xref py py-func docutils literal notranslate\"><span class=\"pre\">input()</span></code></a></p>\n",
        "         </td>\n",
        "         <td>\n",
        "            <p><a href=\"https://docs.python.org/3/library/functions.html\" title=\"oct\"><code class=\"xref py py-func docutils literal notranslate\"><span class=\"pre\">oct()</span></code></a></p>\n",
        "         </td>\n",
        "         <td>\n",
        "            <p><a href=\"https://docs.python.org/3/library/functions.html\" title=\"staticmethod\"><code class=\"xref py py-func docutils literal notranslate\"><span class=\"pre\">staticmethod()</span></code></a></p>\n",
        "         </td>\n",
        "      </tr>\n",
        "      <tr class=\"row-odd\">\n",
        "         <td>\n",
        "            <p><a href=\"https://docs.python.org/3/library/functions.html\" title=\"bool\"><code class=\"xref py py-func docutils literal notranslate\"><span class=\"pre\">bool()</span></code></a></p>\n",
        "         </td>\n",
        "         <td>\n",
        "            <p><a href=\"https://docs.python.org/3/library/functions.html\" title=\"eval\"><code class=\"xref py py-func docutils literal notranslate\"><span class=\"pre\">eval()</span></code></a></p>\n",
        "         </td>\n",
        "         <td>\n",
        "            <p><a href=\"https://docs.python.org/3/library/functions.html\" title=\"int\"><code class=\"xref py py-func docutils literal notranslate\"><span class=\"pre\">int()</span></code></a></p>\n",
        "         </td>\n",
        "         <td>\n",
        "            <p><a href=\"https://docs.python.org/3/library/functions.html\" title=\"open\"><code class=\"xref py py-func docutils literal notranslate\"><span class=\"pre\">open()</span></code></a></p>\n",
        "         </td>\n",
        "         <td>\n",
        "            <p><a href=\"https://docs.python.org/3/library/functions.html\"><code class=\"docutils literal notranslate\"><span class=\"pre\">str()</span></code></a></p>\n",
        "         </td>\n",
        "      </tr>\n",
        "      <tr>\n",
        "         <td>\n",
        "            <p><a href=\"https://docs.python.org/3/library/functions.html\" title=\"breakpoint\"><code class=\"xref py py-func docutils literal notranslate\"><span class=\"pre\">breakpoint()</span></code></a></p>\n",
        "         </td>\n",
        "         <td>\n",
        "            <p><a href=\"https://docs.python.org/3/library/functions.html\" title=\"exec\"><code class=\"xref py py-func docutils literal notranslate\"><span class=\"pre\">exec()</span></code></a></p>\n",
        "         </td>\n",
        "         <td>\n",
        "            <p><a href=\"https://docs.python.org/3/library/functions.html\" title=\"isinstance\"><code class=\"xref py py-func docutils literal notranslate\"><span class=\"pre\">isinstance()</span></code></a></p>\n",
        "         </td>\n",
        "         <td>\n",
        "            <p><a href=\"https://docs.python.org/3/library/functions.html\" title=\"ord\"><code class=\"xref py py-func docutils literal notranslate\"><span class=\"pre\">ord()</span></code></a></p>\n",
        "         </td>\n",
        "         <td>\n",
        "            <p><a href=\"https://docs.python.org/3/library/functions.html\" title=\"sum\"><code class=\"xref py py-func docutils literal notranslate\"><span class=\"pre\">sum()</span></code></a></p>\n",
        "         </td>\n",
        "      </tr>\n",
        "      <tr class=\"row-odd\">\n",
        "         <td>\n",
        "            <p><a href=\"https://docs.python.org/3/library/functions.html\"><code class=\"docutils literal notranslate\"><span class=\"pre\">bytearray()</span></code></a></p>\n",
        "         </td>\n",
        "         <td>\n",
        "            <p><a href=\"https://docs.python.org/3/library/functions.html\" title=\"filter\"><code class=\"xref py py-func docutils literal notranslate\"><span class=\"pre\">filter()</span></code></a></p>\n",
        "         </td>\n",
        "         <td>\n",
        "            <p><a href=\"https://docs.python.org/3/library/functions.html\" title=\"issubclass\"><code class=\"xref py py-func docutils literal notranslate\"><span class=\"pre\">issubclass()</span></code></a></p>\n",
        "         </td>\n",
        "         <td>\n",
        "            <p><a href=\"https://docs.python.org/3/library/functions.html\" title=\"pow\"><code class=\"xref py py-func docutils literal notranslate\"><span class=\"pre\">pow()</span></code></a></p>\n",
        "         </td>\n",
        "         <td>\n",
        "            <p><a href=\"https://docs.python.org/3/library/functions.html\" title=\"super\"><code class=\"xref py py-func docutils literal notranslate\"><span class=\"pre\">super()</span></code></a></p>\n",
        "         </td>\n",
        "      </tr>\n",
        "      <tr>\n",
        "         <td>\n",
        "            <p><a href=\"https://docs.python.org/3/library/functions.html\"><code class=\"docutils literal notranslate\"><span class=\"pre\">bytes()</span></code></a></p>\n",
        "         </td>\n",
        "         <td>\n",
        "            <p><a href=\"https://docs.python.org/3/library/functions.html\" title=\"float\"><code class=\"xref py py-func docutils literal notranslate\"><span class=\"pre\">float()</span></code></a></p>\n",
        "         </td>\n",
        "         <td>\n",
        "            <p><a href=\"https://docs.python.org/3/library/functions.html\" title=\"iter\"><code class=\"xref py py-func docutils literal notranslate\"><span class=\"pre\">iter()</span></code></a></p>\n",
        "         </td>\n",
        "         <td>\n",
        "            <p><a href=\"https://docs.python.org/3/library/functions.html\" title=\"print\"><code class=\"xref py py-func docutils literal notranslate\"><span class=\"pre\">print()</span></code></a></p>\n",
        "         </td>\n",
        "         <td>\n",
        "            <p><a href=\"https://docs.python.org/3/library/functions.html\"><code class=\"docutils literal notranslate\"><span class=\"pre\">tuple()</span></code></a></p>\n",
        "         </td>\n",
        "      </tr>\n",
        "      <tr class=\"row-odd\">\n",
        "         <td>\n",
        "            <p><a href=\"https://docs.python.org/3/library/functions.html\" title=\"callable\"><code class=\"xref py py-func docutils literal notranslate\"><span class=\"pre\">callable()</span></code></a></p>\n",
        "         </td>\n",
        "         <td>\n",
        "            <p><a href=\"https://docs.python.org/3/library/functions.html\" title=\"format\"><code class=\"xref py py-func docutils literal notranslate\"><span class=\"pre\">format()</span></code></a></p>\n",
        "         </td>\n",
        "         <td>\n",
        "            <p><a href=\"https://docs.python.org/3/library/functions.html\" title=\"len\"><code class=\"xref py py-func docutils literal notranslate\"><span class=\"pre\">len()</span></code></a></p>\n",
        "         </td>\n",
        "         <td>\n",
        "            <p><a href=\"https://docs.python.org/3/library/functions.html\" title=\"property\"><code class=\"xref py py-func docutils literal notranslate\"><span class=\"pre\">property()</span></code></a></p>\n",
        "         </td>\n",
        "         <td>\n",
        "            <p><a href=\"https://docs.python.org/3/library/functions.html\" title=\"type\"><code class=\"xref py py-func docutils literal notranslate\"><span class=\"pre\">type()</span></code></a></p>\n",
        "         </td>\n",
        "      </tr>\n",
        "      <tr>\n",
        "         <td>\n",
        "            <p><a href=\"https://docs.python.org/3/library/functions.html\" title=\"chr\"><code class=\"xref py py-func docutils literal notranslate\"><span class=\"pre\">chr()</span></code></a></p>\n",
        "         </td>\n",
        "         <td>\n",
        "            <p><a href=\"https://docs.python.org/3/library/functions.html\"><code class=\"docutils literal notranslate\"><span class=\"pre\">frozenset()</span></code></a></p>\n",
        "         </td>\n",
        "         <td>\n",
        "            <p><a href=\"https://docs.python.org/3/library/functions.html\"><code class=\"docutils literal notranslate\"><span class=\"pre\">list()</span></code></a></p>\n",
        "         </td>\n",
        "         <td>\n",
        "            <p><a href=\"https://docs.python.org/3/library/functions.html\"><code class=\"docutils literal notranslate\"><span class=\"pre\">range()</span></code></a></p>\n",
        "         </td>\n",
        "         <td>\n",
        "            <p><a href=\"https://docs.python.org/3/library/functions.html\" title=\"vars\"><code class=\"xref py py-func docutils literal notranslate\"><span class=\"pre\">vars()</span></code></a></p>\n",
        "         </td>\n",
        "      </tr>\n",
        "      <tr class=\"row-odd\">\n",
        "         <td>\n",
        "            <p><a href=\"https://docs.python.org/3/library/functions.html\" title=\"classmethod\"><code class=\"xref py py-func docutils literal notranslate\"><span class=\"pre\">classmethod()</span></code></a></p>\n",
        "         </td>\n",
        "         <td>\n",
        "            <p><a href=\"https://docs.python.org/3/library/functions.html\" title=\"getattr\"><code class=\"xref py py-func docutils literal notranslate\"><span class=\"pre\">getattr()</span></code></a></p>\n",
        "         </td>\n",
        "         <td>\n",
        "            <p><a href=\"https://docs.python.org/3/library/functions.html\" title=\"locals\"><code class=\"xref py py-func docutils literal notranslate\"><span class=\"pre\">locals()</span></code></a></p>\n",
        "         </td>\n",
        "         <td>\n",
        "            <p><a href=\"https://docs.python.org/3/library/functions.html\" title=\"repr\"><code class=\"xref py py-func docutils literal notranslate\"><span class=\"pre\">repr()</span></code></a></p>\n",
        "         </td>\n",
        "         <td>\n",
        "            <p><a href=\"https://docs.python.org/3/library/functions.html\" title=\"zip\"><code class=\"xref py py-func docutils literal notranslate\"><span class=\"pre\">zip()</span></code></a></p>\n",
        "         </td>\n",
        "      </tr>\n",
        "      <tr>\n",
        "         <td>\n",
        "            <p><a href=\"https://docs.python.org/3/library/functions.html\" title=\"compile\"><code class=\"xref py py-func docutils literal notranslate\"><span class=\"pre\">compile()</span></code></a></p>\n",
        "         </td>\n",
        "         <td>\n",
        "            <p><a href=\"https://docs.python.org/3/library/functions.html\" title=\"globals\"><code class=\"xref py py-func docutils literal notranslate\"><span class=\"pre\">globals()</span></code></a></p>\n",
        "         </td>\n",
        "         <td>\n",
        "            <p><a href=\"https://docs.python.org/3/library/functions.html\" title=\"map\"><code class=\"xref py py-func docutils literal notranslate\"><span class=\"pre\">map()</span></code></a></p>\n",
        "         </td>\n",
        "         <td>\n",
        "            <p><a href=\"https://docs.python.org/3/library/functions.html\" title=\"reversed\"><code class=\"xref py py-func docutils literal notranslate\"><span class=\"pre\">reversed()</span></code></a></p>\n",
        "         </td>\n",
        "         <td>\n",
        "            <p><a href=\"https://docs.python.org/3/library/functions.html\" title=\"__import__\"><code class=\"xref py py-func docutils literal notranslate\"><span class=\"pre\">__import__()</span></code></a></p>\n",
        "         </td>\n",
        "      </tr>\n",
        "      <tr class=\"row-odd\">\n",
        "         <td>\n",
        "            <p><a href=\"https://docs.python.org/3/library/functions.html\" title=\"complex\"><code class=\"xref py py-func docutils literal notranslate\"><span class=\"pre\">complex()</span></code></a></p>\n",
        "         </td>\n",
        "         <td>\n",
        "            <p><a href=\"#hasattr\" title=\"hasattr\"><code class=\"xref py py-func docutils literal notranslate\"><span class=\"pre\">hasattr()</span></code></a></p>\n",
        "         </td>\n",
        "         <td>\n",
        "            <p><a href=\"https://docs.python.org/3/library/functions.html\" title=\"max\"><code class=\"xref py py-func docutils literal notranslate\"><span class=\"pre\">max()</span></code></a></p>\n",
        "         </td>\n",
        "         <td>\n",
        "            <p><a href=\"https://docs.python.org/3/library/functions.html\" title=\"round\"><code class=\"xref py py-func docutils literal notranslate\"><span class=\"pre\">round()</span></code></a></p>\n",
        "         </td>\n",
        "         <td></td>\n",
        "      </tr>\n",
        "   </tbody>\n",
        "</table>"
      ]
    },
    {
      "cell_type": "markdown",
      "metadata": {
        "id": "ukL9CMG8oxRz"
      },
      "source": [
        "<p>\n",
        "\n",
        "##  **La función $Help$**\n",
        "\n",
        "Invoca el sistema de ayuda integrado. (Esta función está pensada para uso interactivo). Si no se proporciona ningún argumento, el sistema de ayuda interactiva se inicia en la consola del intérprete. Si el argumento es una cadena, la cadena se busca como el nombre de un módulo, función, clase, método, palabra clave o tema de documentación, y se imprime una página de ayuda en la consola. Si el argumento es cualquier otro tipo de objeto, se genera una página de ayuda sobre el objeto.</p>\n",
        "\n",
        "[Función Help](https://docs.python.org/3/library/functions.html#help)\n",
        "\n",
        "<p>Importamos el módulo $random$ y luego utilizamos la función integrada $help$ para obtener la ayuda relacionada con el objeto, también podemos utilizar la función %help% sobre funciones del módulo."
      ]
    },
    {
      "cell_type": "code",
      "execution_count": null,
      "metadata": {
        "id": "tOml75vqpim2"
      },
      "outputs": [],
      "source": [
        "import random\n",
        "help(random) #Funcion help sobre el modulo"
      ]
    },
    {
      "cell_type": "code",
      "execution_count": null,
      "metadata": {
        "id": "Xz_VE5BHre6d"
      },
      "outputs": [],
      "source": [
        "help(random.randint) #Funcion help sobre el modulo y la funcion especifica"
      ]
    },
    {
      "cell_type": "markdown",
      "metadata": {
        "id": "g7SxY6hgsd-9"
      },
      "source": [
        "<p><a name=\"s3\"></a></p>\n",
        "\n",
        "# **03. Variables**\n",
        "[[Contenidos]](#contents)\n",
        "<p>Las variables son contenedores para almacenar valores de datos.</p>"
      ]
    },
    {
      "cell_type": "markdown",
      "metadata": {
        "id": "dFmT6zx-02mz"
      },
      "source": [
        "## **Creando Variables**\n",
        "Python no tiene ningún comando para declarar una variable. Una variable se crea en el momento en que le asigna un valor por primera vez."
      ]
    },
    {
      "cell_type": "markdown",
      "metadata": {
        "id": "qG0GfIlWv30O"
      },
      "source": [
        "<p>\n",
        "\n",
        "## **La función $Print$**\n",
        "\n",
        "`print(*objects, sep=' ', end='\\n', file=sys.stdout, flush=False)`\n",
        "\n",
        "Imprime los objetos en el archivo usando el flujo de texto, separados por `sep` y seguidos por `end`. `sep`, `end`, `file` y `flush`, si están presentes, deben proporcionarse como argumentos de palabra clave.\n",
        "Todos los argumentos que no son palabras clave se convierten en cadenas como lo hace `str()` y se escriben en la secuencia, separados por `sep` y seguidos por `end`. Tanto `sep` como `end` deben ser cadenas de texto; también pueden ser ninguno, lo que significa utilizar los valores predeterminados.\n",
        "Para concatenar variables se utiliza el símbolo `+`, en contexto de variables matemáticas el símbolo `+` se aplica como operador suma de variables.\n",
        "Si se combinan número y texto con el símbolo `+` Python retorna un error de operadores no soportados como se muestra a continuación:\n",
        "```\n",
        "TypeError: unsupported operand type(s) for +: 'int' and 'str'\n",
        "```\n",
        "\n",
        "</p>\n",
        "\n",
        "[Función Print](https://docs.python.org/3/library/functions.html#print)\n",
        "\n",
        "Creamos tres variables, asignamos un valor y se imprimen usando `print`\n",
        "</p>"
      ]
    },
    {
      "cell_type": "code",
      "execution_count": null,
      "metadata": {
        "id": "6B-XQEHSxI26"
      },
      "outputs": [],
      "source": [
        "#Ejemplo de variables\n",
        "x = 666\n",
        "y = 25.6\n",
        "z = \"Batman\"\n",
        "\n",
        "print(x)\n",
        "print(y)\n",
        "print(z)"
      ]
    },
    {
      "cell_type": "code",
      "execution_count": null,
      "metadata": {
        "id": "rnPqbeHAxYsT"
      },
      "outputs": [],
      "source": [
        "print(x,y,z)"
      ]
    },
    {
      "cell_type": "code",
      "execution_count": null,
      "metadata": {
        "id": "i4Hs5NeR_D8B"
      },
      "outputs": [],
      "source": [
        "#Quitar comentario y evaluar\n",
        "#print(x + \" - \" + y + \" - \" + z)"
      ]
    },
    {
      "cell_type": "code",
      "execution_count": null,
      "metadata": {
        "id": "BQA1bbzi_RK5"
      },
      "outputs": [],
      "source": [
        "a = \"Batman con \"\n",
        "b = \"Superman\"\n",
        "print(a+b)"
      ]
    },
    {
      "cell_type": "code",
      "execution_count": null,
      "metadata": {
        "id": "A5vVfbgQ_5MK"
      },
      "outputs": [],
      "source": [
        "e = 333\n",
        "f = 333\n",
        "print(e+f)"
      ]
    },
    {
      "cell_type": "code",
      "execution_count": null,
      "metadata": {
        "id": "mXpYftpKA15d"
      },
      "outputs": [],
      "source": [
        "u = 5\n",
        "o = \"Batman\"\n",
        "#Quitar comentario y evaluar\n",
        "#print(u + o)"
      ]
    },
    {
      "cell_type": "code",
      "execution_count": null,
      "metadata": {
        "id": "T_FszBch9uQs"
      },
      "outputs": [],
      "source": [
        "#Contatenación de strings con +\n",
        "print(\"Común\"+\"mente\")"
      ]
    },
    {
      "cell_type": "code",
      "execution_count": null,
      "metadata": {
        "id": "umJGwGMm93Lz"
      },
      "outputs": [],
      "source": [
        "#La función print concatena dependiendo de como son las entradas.\n",
        "#A continuación se muestran tres resultados diferentes\n",
        "\n",
        "print(\"Común\" \"mente\")\n",
        "print(\"Común\",\"mente\",\"otra cosa\")\n",
        "print((\"Común\",\"mente\"))"
      ]
    },
    {
      "cell_type": "code",
      "execution_count": null,
      "metadata": {
        "id": "srKT7Smh95QT"
      },
      "outputs": [],
      "source": [
        "#Por otra parte, la función print convierte todos las entradas a strings\n",
        "print(\"Común\", 1.0, False)"
      ]
    },
    {
      "cell_type": "code",
      "execution_count": null,
      "metadata": {
        "id": "mLaK7-2X9-Et"
      },
      "outputs": [],
      "source": [
        "# Podemos usar la función print en forma similar a como es usada en C\n",
        "print(\"value = %f\" %3.3435698475348750948732)"
      ]
    },
    {
      "cell_type": "markdown",
      "metadata": {
        "id": "IwPwPklA-ETZ"
      },
      "source": [
        "Python posee dos estilos de formatos. Un estilo más antiguo, en el que se especifica, por ejemplo, el número de cifras decimales que se imprimirá tendrá un número de tipo float denotado por %n.f y %.d, que transforma un número en un string, correspondiente a un número decimal."
      ]
    },
    {
      "cell_type": "code",
      "execution_count": null,
      "metadata": {
        "id": "0pzwbO75-5OO"
      },
      "outputs": [],
      "source": [
        "Variable = \"Valor = %.8d value2 = %.8d\" % (3.1415384734974, 1.64354365)\n",
        "print(Variable)"
      ]
    },
    {
      "cell_type": "markdown",
      "metadata": {
        "id": "rtOrQhjH_CIz"
      },
      "source": [
        "El mismo string puede ser definido usando el nuevo estilo de formato el cual veremos más adelante."
      ]
    },
    {
      "cell_type": "code",
      "execution_count": null,
      "metadata": {
        "id": "KnL_EN49_DKz"
      },
      "outputs": [],
      "source": [
        "Variable2 = 'Valor = {0:.2f}, value2 = {2},{1}'.format(3.1415, 1.5, 7.9)\n",
        "print(Variable2)\n",
        "type(Variable2)"
      ]
    },
    {
      "cell_type": "code",
      "execution_count": null,
      "metadata": {
        "id": "p2Ogv1LNTmB0"
      },
      "outputs": [],
      "source": [
        "\n",
        "numero = 2 #@param {type:'integer'}\n",
        "\n",
        "#Solución esfera@param {type:\"integer\"}\n",
        "r =  8 #\n",
        "\n",
        "V = (4/3)*3.141521*(r**3)\n",
        "print(\"El volúmen de su esfera es:\",V)\n"
      ]
    },
    {
      "cell_type": "markdown",
      "metadata": {
        "id": "aURAU749xsTL"
      },
      "source": [
        "<p>\n",
        "\n",
        "## **La función $Type$**\n",
        "\n",
        "`type(name, bases, dict)`\n",
        "\n",
        "Con un argumento, devuelve el tipo de objeto. El valor de retorno es un objeto de tipo.\n",
        "\n",
        "Las variables no necesitan declararse con ningún tipo en particular, e incluso pueden cambiar de tipo una vez que se han establecido.</p>\n",
        "\n",
        "[Función Type](https://docs.python.org/3/library/functions.html#type)\n",
        "\n",
        "Usando las variables previas detallaremos el tipo con `type`\n",
        "</p>"
      ]
    },
    {
      "cell_type": "code",
      "execution_count": null,
      "metadata": {
        "id": "c0n_TQkqySAP"
      },
      "outputs": [],
      "source": [
        "type(x)"
      ]
    },
    {
      "cell_type": "code",
      "execution_count": null,
      "metadata": {
        "id": "Ps4rItaUyW3Y"
      },
      "outputs": [],
      "source": [
        "type(y)"
      ]
    },
    {
      "cell_type": "code",
      "execution_count": null,
      "metadata": {
        "id": "HqpPAhKsyYQ4"
      },
      "outputs": [],
      "source": [
        "type(z)"
      ]
    },
    {
      "cell_type": "markdown",
      "metadata": {
        "id": "okwPtXPryiy3"
      },
      "source": [
        "<p>\n",
        "\n",
        "## **Nombres de Variables**\n",
        "\n",
        "Una variable puede tener un nombre corto (como xey) o un nombre más descriptivo (edad, nombre del coche, volumen_total).\n",
        "Las reglas para variables de Python son:\n",
        "\n",
        "\n",
        "*   El nombre de una variable debe comenzar con una letra o el carácter de guion bajo, mas conocido como underscore.\n",
        "*   El nombre de una variable no puede comenzar con un número.\n",
        "*   El nombre de una variable solo puede contener caracteres alfanuméricos y guiones bajos (A-z, 0-9 y _).\n",
        "*   Los nombres de las variables distinguen entre mayúsculas y minúsculas (alfa, Alfa, alfA y ALFA son cuatro variables diferentes).\n",
        "</p>\n",
        "\n"
      ]
    },
    {
      "cell_type": "code",
      "execution_count": null,
      "metadata": {
        "id": "g4hMhHsyzGZj"
      },
      "outputs": [],
      "source": [
        "#Correctas declaraciones de variables\n",
        "myvar = \"Batman\"\n",
        "my_var = \"Batman\"\n",
        "_my_var = \"Batman\"\n",
        "myVar = \"Batman\"\n",
        "MYVAR = \"Batman\"\n",
        "myvar2 = \"Batman\""
      ]
    },
    {
      "cell_type": "code",
      "execution_count": null,
      "metadata": {
        "id": "ONhbf8QjzJfM"
      },
      "outputs": [],
      "source": [
        "#Incorrectas declaraciones de variables\n",
        "#Quitar comentario y evaluar\n",
        "#2myvar = \"Batman\"\n",
        "#my-var = \"Batman\"\n",
        "#my var = \"Batman\""
      ]
    },
    {
      "cell_type": "markdown",
      "metadata": {
        "id": "yzje5nRLzdJL"
      },
      "source": [
        "## **Los nombres de las variables son sensibles a mayúsculas**"
      ]
    },
    {
      "cell_type": "code",
      "execution_count": null,
      "metadata": {
        "id": "EkG1Onojzi8X"
      },
      "outputs": [],
      "source": [
        "a = 1\n",
        "A = 2\n",
        "print(a,A)"
      ]
    },
    {
      "cell_type": "markdown",
      "metadata": {
        "id": "7EdLwOUS1US5"
      },
      "source": [
        "<p>\n",
        "\n",
        "## **Las funciones de conversión implícita y explícita**\n",
        "\n",
        "Si desea especificar el tipo de datos de una variable, puede hacerlo con conversión. Para realizar conversiones utilizamos funciones integradas de tipología de datos, de las cuales las más usadas son:\n",
        "\n",
        "*   [bool([x]](https://docs.python.org/3/library/functions.html#bool)\n",
        ">*   Devuelve un valor booleano, es decir, uno de verdadero o falso. `x` se convierte utilizando el procedimiento estándar de prueba de verdad. Si `x` es falso o se omite, devuelve `False`; de lo contrario, devuelve `True`. La clase `bool` es una subclase de `int`. No se puede subclasificar más. Sus únicas instancias son `False` y `True`.\n",
        "\n",
        "*   [float([x]](https://docs.python.org/3/library/functions.html#float)\n",
        ">*   Devuelve un número de coma flotante construido a partir de un número o cadena `x`.\n",
        "Si el argumento es una cadena, debe contener un número decimal, opcionalmente precedido por un signo y opcionalmente incrustado en espacios en blanco. El signo opcional puede ser `+` o `-` ; un signo `+` no tiene ningún efecto sobre el valor producido. El argumento también puede ser una cadena que represente un NaN (no un número) o un infinito positivo o negativo.\n",
        "\n",
        "*   [int([x]](https://docs.python.org/3/library/functions.html#int)\n",
        ">*   Devuelve un objeto entero construido a partir de un número o cadena `x`, o devuelve `0` si no se dan argumentos. Si `x` define `__int__()`, `int(x)` devuelve `x` `__int__()`. Si `x` define `__index__()`, devuelve `x` .`__index__()`. Si `x` define `__trunc__()`, devuelve `x` .`__trunc__()`. Para números de coma flotante, esto se trunca hacia cero.\n",
        "Si `x` no es un número o si se proporciona una base, entonces `x` debe ser una instancia de cadena, `bytes` o `bytearray` que represente un literal entero en  [radix (base)](https://en.wikipedia.org/wiki/Radix). Opcionalmente, el literal puede ir precedido por `+` o `-` (sin espacios entre ellos) y rodeado por espacios en blanco. Un literal de base `n` consta de los dígitos del `0` al `n-1`, y de la a a la z (o de la A a la Z) tienen valores de 10 a 35. La base predeterminada es 10. Los valores permitidos son 0 y 2–36. Opcionalmente, los literales base-2, -8 y -16 pueden tener el prefijo 0b / 0B, 0o / 0O o 0x / 0X, como ocurre con los literales enteros en el código. Base 0 significa interpretar exactamente como un código literal, de modo que la base real es 2, 8, 10 o 16, y de modo que int ('010', 0) no es legal, mientras que int ('010') es, así como int ('010', 8).\n",
        "\n",
        "*   [str([x]](https://docs.python.org/3/library/functions.html#str)\n",
        ">*   Devuelve una versión de cadena de texto del objeto. Si no se proporciona el objeto, devuelve la cadena vacía. De lo contrario, el comportamiento de `str()` depende de si se proporciona codificación o errores, como sigue.\n",
        "Si no se da ni codificación ni errores, `str(objeto)` devuelve `objeto.__str__()`, que es la representación de cadena \"informal\" o bien imprimible del objeto. Para los objetos de cadena, esta es la cadena en sí. Si el objeto no tiene un método `__str__()`, entonces `str()` vuelve a devolver repr (objeto).\n",
        "\n",
        "Para profundizar la implementación de conversión explicita e implicita, visita [DuckTyping](https://es.wikipedia.org/wiki/Duck_typing#En_Python)\n",
        "\n",
        "![Duck](https://i.ytimg.com/vi/WM1x2L1dFJk/maxresdefault.jpg)\n",
        "\n",
        "\n",
        "\n",
        "![BoxBox](https://upload.wikimedia.org/wikipedia/commons/5/55/8-cell-simple.gif)\n",
        "\n",
        "\n",
        "</p>"
      ]
    },
    {
      "cell_type": "markdown",
      "metadata": {
        "id": "pd9ZMgi1ry3_"
      },
      "source": []
    },
    {
      "cell_type": "code",
      "execution_count": null,
      "metadata": {
        "colab": {
          "base_uri": "https://localhost:8080/"
        },
        "id": "Rn081Vy265Z5",
        "outputId": "0e6728cc-be15-4434-ef66-b8b163bf4182"
      },
      "outputs": [
        {
          "name": "stdout",
          "output_type": "stream",
          "text": [
            "666 25 16.6\n",
            "<class 'str'> <class 'int'> <class 'float'>\n"
          ]
        }
      ],
      "source": [
        "#Convertir datos\n",
        "x = str(666)\n",
        "y = int(25.6)\n",
        "z = float(\"16.6\")\n",
        "print(x,y,z)\n",
        "print(type(x), type(y), type(z))"
      ]
    },
    {
      "cell_type": "code",
      "execution_count": null,
      "metadata": {
        "colab": {
          "base_uri": "https://localhost:8080/"
        },
        "id": "FJUxffrU7TV-",
        "outputId": "e8166e5a-82ba-4664-95f8-9ea8d9d7ded6"
      },
      "outputs": [
        {
          "name": "stdout",
          "output_type": "stream",
          "text": [
            "666 25 16.6\n",
            "<class 'str'> <class 'int'> <class 'float'>\n"
          ]
        }
      ],
      "source": [
        "x = str(666)\n",
        "y = int(25.6)\n",
        "z = float(\"16.6\")\n",
        "print(x,y,z)\n",
        "print(type(x), type(y), type(z))"
      ]
    },
    {
      "cell_type": "markdown",
      "metadata": {
        "id": "WgODP-f4r6WW"
      },
      "source": [
        "## **Limites a números en Python**"
      ]
    },
    {
      "cell_type": "code",
      "execution_count": null,
      "metadata": {
        "colab": {
          "base_uri": "https://localhost:8080/"
        },
        "id": "i4Gxa6scrpMz",
        "outputId": "17d37eb0-0c81-4dd3-8844-422477e862a4"
      },
      "outputs": [
        {
          "name": "stdout",
          "output_type": "stream",
          "text": [
            "9223372036854775807\n",
            "<class 'int'>\n",
            "True\n"
          ]
        }
      ],
      "source": [
        "import sys\n",
        "print(sys.maxsize)\n",
        "print(type(sys.maxsize))\n",
        "print(sys.maxsize == 2**63 - 1)"
      ]
    },
    {
      "cell_type": "code",
      "execution_count": null,
      "metadata": {
        "colab": {
          "base_uri": "https://localhost:8080/"
        },
        "id": "A8LVBJ_cSNH3",
        "outputId": "24965690-90ac-4411-9964-aea20ba5fbce"
      },
      "outputs": [
        {
          "name": "stdout",
          "output_type": "stream",
          "text": [
            "100009223372036854775808\n"
          ]
        }
      ],
      "source": [
        "print(2**63 + 100000000000000000000000)"
      ]
    },
    {
      "cell_type": "markdown",
      "metadata": {
        "id": "4Fea1bpp506g"
      },
      "source": [
        "<p>\n",
        "\n",
        "## **Nombres de variables de palabras múltiples**\n",
        "\n",
        "Los nombres de variables con más de una palabra pueden resultar difíciles de leer. Hay varias técnicas que puede utilizar para hacerlos más legibles:\n",
        "\n",
        "*   *Camel Case*\n",
        ">*   Cada palabra a exepción de la primera comienza con mayúscula\n",
        ">>```python\n",
        "myVariableName = \"John\"\n",
        "```\n",
        "\n",
        "*   *Pascal Case*\n",
        ">*   Cada palabra comienza con mayúcula\n",
        ">>```python\n",
        "MyVariableName = \"John\"\n",
        "```\n",
        "\n",
        "*   *Snake Case*\n",
        ">*   Cada palabra es separada con guion bajo\n",
        ">>```python\n",
        "my_variable_name = \"John\"\n",
        "```\n",
        "</p>"
      ]
    },
    {
      "cell_type": "markdown",
      "metadata": {
        "id": "ZkZ8cGHq7nXx"
      },
      "source": [
        "<p>\n",
        "\n",
        "## **¿Comillas simples o dobles?**\n",
        "\n",
        "Las variables de cadena de texto se pueden declarar utilizando comillas simples o dobles:\n",
        "\n",
        "\n",
        "```python\n",
        "x = \"Batman\"\n",
        "# Es lo mismo\n",
        "x = 'Batman'\n",
        "```\n",
        "</p>\n"
      ]
    },
    {
      "cell_type": "markdown",
      "metadata": {
        "id": "3lNDkAXi8E_P"
      },
      "source": [
        "<p>\n",
        "\n",
        "## **Varios valores a múltiples variables**\n",
        "\n",
        "Python, permite asignar varios valores a múltiples variables en una sola línea de acuerdo al orden de asignación.\n",
        "\n",
        "</p>"
      ]
    },
    {
      "cell_type": "code",
      "execution_count": null,
      "metadata": {
        "colab": {
          "base_uri": "https://localhost:8080/"
        },
        "id": "UbClMZtj8YQi",
        "outputId": "12986847-e165-41ad-9737-8274c99ffe11"
      },
      "outputs": [
        {
          "name": "stdout",
          "output_type": "stream",
          "text": [
            "Batman\n",
            "Superman\n",
            "WonderWoman\n"
          ]
        }
      ],
      "source": [
        "x, y, z = \"Batman\", \"Superman\", \"WonderWoman\"\n",
        "print(x)\n",
        "print(y)\n",
        "print(z)"
      ]
    },
    {
      "cell_type": "markdown",
      "metadata": {
        "id": "Lfc6P5FH8ikD"
      },
      "source": [
        "<p>\n",
        "\n",
        "## **Un valor a múltiples variables**\n",
        "\n",
        "Python, permite asignar el mismo valor a múltiples variables en una sola línea.\n",
        "\n",
        "</p>"
      ]
    },
    {
      "cell_type": "code",
      "execution_count": null,
      "metadata": {
        "colab": {
          "base_uri": "https://localhost:8080/"
        },
        "id": "iVTKkZXb8qkm",
        "outputId": "8e23fd7b-964c-4a38-b632-5ee1f714b7d8"
      },
      "outputs": [
        {
          "name": "stdout",
          "output_type": "stream",
          "text": [
            "Batman\n",
            "Batman\n",
            "Batman\n"
          ]
        }
      ],
      "source": [
        "x = y = z = \"Batman\"\n",
        "print(x)\n",
        "print(y)\n",
        "print(z)"
      ]
    },
    {
      "cell_type": "markdown",
      "metadata": {
        "id": "mxuqdZat-T1L"
      },
      "source": [
        "<p>\n",
        "\n",
        "## **Desempaquetar una colección**\n",
        "\n",
        "Si tiene una colección de valores en una lista, tupla, etc. Python le permite extraer los valores en variables. A esto se le llama `unpacking`.\n",
        "\n",
        "</p>"
      ]
    },
    {
      "cell_type": "code",
      "execution_count": null,
      "metadata": {
        "colab": {
          "base_uri": "https://localhost:8080/"
        },
        "id": "ezHzWDGg-sTb",
        "outputId": "fd4bf84c-ba2c-4a2a-8cd9-eae5041e03b9"
      },
      "outputs": [
        {
          "name": "stdout",
          "output_type": "stream",
          "text": [
            "Batman\n",
            "Superman\n",
            "WonderWoman\n"
          ]
        }
      ],
      "source": [
        "superheroes = [\"Batman\", \"Superman\", \"WonderWoman\"]\n",
        "x, y, z = superheroes\n",
        "print(x)\n",
        "print(y)\n",
        "print(z)"
      ]
    },
    {
      "cell_type": "markdown",
      "metadata": {
        "id": "kVJkoiSYKugG"
      },
      "source": [
        "<p>\n",
        "\n",
        "## **Variables Globales**\n",
        "\n",
        "Las variables globales en Python son aquellas definidas en el script o en \"el código\" y fuera de cualquier función. Son accesibles desde cualquier punto del programa, incluso desde dentro de funciones. También se puede acceder a las variables globales de otros programas o módulos importados.\n",
        "\n",
        "\n",
        "```python\n",
        "x = 'primer valor'\n",
        "def unafuncion():\n",
        "  global x\n",
        "  x = \"ahora puedo modificar el valor de x\"\n",
        "unafuncion()\n",
        "print(\"la variable  \" + x)\n",
        "```\n",
        "\n",
        "\n",
        "</p>"
      ]
    },
    {
      "cell_type": "code",
      "execution_count": null,
      "metadata": {
        "colab": {
          "base_uri": "https://localhost:8080/"
        },
        "id": "0mUSK0hLbF2T",
        "outputId": "b80f3c78-1d7e-4bfc-bdd0-7a073953b697"
      },
      "outputs": [
        {
          "name": "stdout",
          "output_type": "stream",
          "text": [
            "la variable  ahora puedo modificar el valor de x\n"
          ]
        }
      ],
      "source": [
        "x = 'primer valor'\n",
        "def unafuncion():\n",
        "  global x\n",
        "  x = \"ahora puedo modificar el valor de x\"\n",
        "unafuncion()\n",
        "print(\"la variable  \" + x)"
      ]
    },
    {
      "cell_type": "code",
      "execution_count": null,
      "metadata": {
        "colab": {
          "base_uri": "https://localhost:8080/"
        },
        "id": "QCof7PgCY9_k",
        "outputId": "152e1670-cecc-45fd-ffe1-2d350d2cc6cd"
      },
      "outputs": [
        {
          "name": "stdout",
          "output_type": "stream",
          "text": [
            "2\n",
            "1 Primera versión de f\n",
            "Segunda versión de f, f de la función es diferente del f fuera de la función\n",
            "1 Tercera versión de f\n",
            "Nueva version de g, g es global y la puedo llamar posterior a la ejecucion de la función \n",
            "notese que g cambia de 2 a el nuevo valor de la funcion.\n"
          ]
        }
      ],
      "source": [
        "#Ejemplo de variables globales e internas\n",
        "#Declaremos la variable\n",
        "f = 1\n",
        "#print(g) #En este momento g no existe\n",
        "g = 2 #creamos g y volvemos a imprimir\n",
        "print(g) #En este momento g no existe\n",
        "print(f, 'Primera versión de f')\n",
        "\n",
        "def unafuncion():\n",
        "    f = 'Segunda versión de f, f de la función es diferente del f fuera de la función'\n",
        "    return f\n",
        "def dosfuncion():\n",
        "    global g\n",
        "    g = 'Nueva version de g, g es global y la puedo llamar posterior a la ejecucion de la función'\n",
        "    return g\n",
        "print(unafuncion())\n",
        "print(f, 'Tercera versión de f')\n",
        "print(dosfuncion(), '\\nnotese que g cambia de 2 a el nuevo valor de la funcion.')"
      ]
    },
    {
      "cell_type": "markdown",
      "metadata": {
        "id": "VxMpQy57OxtT"
      },
      "source": [
        "<p><a name=\"s4\"></a></p>\n",
        "\n",
        "# **04. Tipos de Datos**\n",
        "[[Contenidos]](#contents)\n",
        "<p>En programación, el tipo de datos es un concepto importante.</p>"
      ]
    },
    {
      "cell_type": "markdown",
      "metadata": {
        "id": "gxU-VPXnLwTw"
      },
      "source": [
        "<p>\n",
        "\n",
        "## **Tipo de datos en Python**\n",
        "\n",
        "En programación, el tipo de datos es un concepto importante.\n",
        "Las variables pueden almacenar datos de diferentes tipos y los diferentes tipos pueden hacer cosas diferentes.\n",
        "Python tiene los siguientes tipos de datos integrados de forma predeterminada, en estas categorías:\n",
        "\n",
        "\n",
        "\n",
        "*   Tipos Texto (Text):\n",
        ">*   `str`\n",
        "\n",
        "*   Tipos Numéricos (Numeric):\n",
        ">*   `int, float, complex`\n",
        "\n",
        "*   Tipos Secuencias (Sequence):\n",
        ">*   `list, tuple, range`\n",
        "\n",
        "*   Tipos Mapeados (Mapping):\n",
        ">*   `dict`\n",
        "\n",
        "*   Tipos Conjuntos (Set):\n",
        ">*   `set, frozenset`\n",
        "\n",
        "*   Tipos Boleanos (Boolean):\n",
        ">*   `bool`\n",
        "\n",
        "*   Tipos Binarios (Binary):\n",
        ">*   `bytes, bytearray, memoryview`\n",
        "\n",
        "</p>"
      ]
    },
    {
      "cell_type": "markdown",
      "metadata": {
        "id": "Kxx2xwnETq5A"
      },
      "source": [
        "<p>\n",
        "\n",
        "## **Tipo de datos Numéricos**\n",
        "\n",
        "Existen tres tipos de datos numéricos en Python, los cuales son:\n",
        "\n",
        ">*   `int`\n",
        ">>*  `int`, o entero, es un número entero, positivo o negativo, sin decimales, de longitud ilimitada.\n",
        "\n",
        ">*   `float`\n",
        ">>*  `float`, o \"número de coma flotante\" es un número, positivo o negativo, que contiene uno o más decimales.\n",
        "\n",
        ">*   `complex`\n",
        ">>*  Los números complejos se escriben con una $j$ como parte imaginaria.\n",
        "\n",
        "Las variables de tipos numéricos se crean cuando les asigna un valor.\n",
        "\n",
        "\n",
        "</p>"
      ]
    },
    {
      "cell_type": "markdown",
      "metadata": {
        "id": "aFMG3t2znHpN"
      },
      "source": [
        "\n",
        "### **Conversiones entre números**\n",
        "<p>\n",
        "Puede convertir de un tipo a otro con los métodos `int()`, `float()` y `complex()`:</p>\n"
      ]
    },
    {
      "cell_type": "code",
      "execution_count": null,
      "metadata": {
        "colab": {
          "base_uri": "https://localhost:8080/"
        },
        "id": "VihV297TUYvy",
        "outputId": "5b4de727-3d5b-4aa3-b01d-cfad9c49091b"
      },
      "outputs": [
        {
          "name": "stdout",
          "output_type": "stream",
          "text": [
            "<class 'int'> <class 'float'> <class 'complex'>\n"
          ]
        }
      ],
      "source": [
        "x = 1    # int\n",
        "y = 2.8  # float\n",
        "z = 1j   # complex\n",
        "print(type(x), type(y),type(z))"
      ]
    },
    {
      "cell_type": "code",
      "execution_count": null,
      "metadata": {
        "colab": {
          "base_uri": "https://localhost:8080/"
        },
        "id": "51kx8JbRVlaB",
        "outputId": "6b310abf-401e-4051-afa2-559619fce619"
      },
      "outputs": [
        {
          "name": "stdout",
          "output_type": "stream",
          "text": [
            "1.0\n",
            "2\n",
            "(1+0j)\n",
            "<class 'float'>\n",
            "<class 'int'>\n",
            "<class 'complex'>\n"
          ]
        }
      ],
      "source": [
        "x = 1    # int\n",
        "y = 2.8  # float\n",
        "z = 1j   # complex\n",
        "\n",
        "#Convertir int a float:\n",
        "a = float(x)\n",
        "\n",
        "#Convertir de float a int:\n",
        "b = int(y)\n",
        "\n",
        "#Convertir de int a complex:\n",
        "c = complex(x)\n",
        "\n",
        "print(a)\n",
        "print(b)\n",
        "print(c)\n",
        "\n",
        "print(type(a))\n",
        "print(type(b))\n",
        "print(type(c))"
      ]
    },
    {
      "cell_type": "code",
      "execution_count": null,
      "metadata": {
        "colab": {
          "base_uri": "https://localhost:8080/"
        },
        "id": "fJpMFYsGKMps",
        "outputId": "83c0922a-f979-4bdf-c2c0-f6dce27a183a"
      },
      "outputs": [
        {
          "name": "stdout",
          "output_type": "stream",
          "text": [
            "64.0\n"
          ]
        }
      ],
      "source": [
        "#Ejercicios de conversiones.\n",
        "q = 16 + int('16') + float('16') + int(16.6)\n",
        "print(q)"
      ]
    },
    {
      "cell_type": "markdown",
      "metadata": {
        "id": "yNyIEX4wnZ_S"
      },
      "source": [
        "<p>\n",
        "\n",
        "## **Cadenas de texto**\n",
        "\n",
        "Las cadenas en Python están rodeadas por comillas simples o comillas dobles.\n",
        "'hola' es lo mismo que \"hola\".\n",
        "Puede mostrar una cadena literal con la función `print()`.\n",
        "\n",
        "Python denota los más conocidos `strings` como **Text Sequence Type — str**\n",
        "\n",
        "Los datos textuales en Python se manejan con objetos `str` o `string`. Los `strings` o cadenas de texto son secuencias inmutables Unicode. Los strings se escriben de diversas formas:\n",
        "\n",
        "Comillas simples: `'permite comillas \"dobles\" incrustadas'`\n",
        "\n",
        "Comillas dobles: `\"permite comillas 'simples' incrustadas\"`\n",
        "\n",
        "Entre comillas triples: `'''Tres comillas simples''', \"\"\"Tres comillas dobles\"\"\"`\n",
        "\n",
        "Las cadenas entre comillas triples pueden abarcar varias líneas; todos los espacios en blanco asociados se incluirán en el literal de cadena.\n",
        "\n",
        "Las cadenas de texto que forman parte de una sola expresión y solo tienen espacios en blanco entre ellos se convertirán implícitamente en un solo literal de cadena. Es decir, `(\"batman\" \"superman\") == \"batman superman\"`.\n",
        "\n",
        "Las cadenas también se pueden crear a partir de otros objetos utilizando el constructor `str`.\n",
        "\n",
        "Dado que no hay un tipo de datos “carácter” separado, indexar una cadena produce cadenas de longitud 1. Es decir, para una cadena no vacía $s, s [0] == s [0: 1]$.\n",
        "\n",
        "Tampoco hay un tipo de cadena mutable, pero `str.join()` o `io.StringIO` se pueden usar para construir cadenas de manera eficiente a partir de múltiples fragmentos.\n",
        "\n",
        "Ejemplos\n",
        "</p>"
      ]
    },
    {
      "cell_type": "code",
      "execution_count": null,
      "metadata": {
        "colab": {
          "base_uri": "https://localhost:8080/"
        },
        "id": "6zk2q5i_pX9g",
        "outputId": "ecad44d8-e400-41c5-83e0-53f0acc9a450"
      },
      "outputs": [
        {
          "name": "stdout",
          "output_type": "stream",
          "text": [
            "Hola Carola\n"
          ]
        }
      ],
      "source": [
        "a = \"Hola Carola\"\n",
        "print(a)"
      ]
    },
    {
      "cell_type": "code",
      "execution_count": null,
      "metadata": {
        "colab": {
          "base_uri": "https://localhost:8080/"
        },
        "id": "dktUx7mjpmR1",
        "outputId": "c686420d-3d3f-4b2c-8bb1-95173321e511"
      },
      "outputs": [
        {
          "name": "stdout",
          "output_type": "stream",
          "text": [
            "In brightest day, in blackest night,\n",
            "No evil shall escape my sight.\n",
            "Let those who worship evil's might\n",
            "Beware my power--Green Lantern's light!\n"
          ]
        }
      ],
      "source": [
        "b = \"\"\"In brightest day, in blackest night,\n",
        "No evil shall escape my sight.\n",
        "Let those who worship evil's might\n",
        "Beware my power--Green Lantern's light!\"\"\"\n",
        "print(b)"
      ]
    },
    {
      "cell_type": "code",
      "execution_count": null,
      "metadata": {
        "colab": {
          "base_uri": "https://localhost:8080/"
        },
        "id": "8sHFyXAqpvAH",
        "outputId": "ee409892-7fff-4c7e-e2ca-ccebcbf09caf"
      },
      "outputs": [
        {
          "name": "stdout",
          "output_type": "stream",
          "text": [
            "In brightest day, in blackest night,\n",
            "No evil shall escape my sight.\n",
            "Let those who worship evil's might\n",
            "Beware my power--Green Lantern's light!\n"
          ]
        }
      ],
      "source": [
        "b = '''In brightest day, in blackest night,\n",
        "No evil shall escape my sight.\n",
        "Let those who worship evil's might\n",
        "Beware my power--Green Lantern's light!'''\n",
        "print(b)"
      ]
    },
    {
      "cell_type": "markdown",
      "metadata": {
        "id": "nVpfGdeUp425"
      },
      "source": [
        "\n",
        "### **Las Cadenas de Texto son Vectores**\n",
        "<p>\n",
        "\n",
        "Como muchos otros lenguajes de programación populares, las cadenas en Python son matrices de bytes que representan caracteres [Unicode](https://es.wikipedia.org/wiki/Unicode).\n",
        "\n",
        "Sin embargo, Python no tiene un tipo de datos de carácter, un solo carácter es simplemente una cadena con una longitud de $1$. Se pueden usar corchetes para acceder a elementos de la cadena.\n",
        "Para obtener el carácter en la posición 1 de una cadena de texto se puede hacer lo siguiente:\n",
        "Recuerda que el primer carácter de las cadenas de texto es cero.\n",
        "\n",
        "```python\n",
        "a = \"Batman\"\n",
        "print(a[1])\n",
        "```\n",
        "\n",
        "\n",
        "</p>"
      ]
    },
    {
      "cell_type": "code",
      "execution_count": null,
      "metadata": {
        "colab": {
          "base_uri": "https://localhost:8080/"
        },
        "id": "iYHvo_0eRUFZ",
        "outputId": "ef910aaa-ad70-487e-f009-ae75db789364"
      },
      "outputs": [
        {
          "name": "stdout",
          "output_type": "stream",
          "text": [
            "t\n"
          ]
        }
      ],
      "source": [
        "#----012345\n",
        "a = \"Batman\"\n",
        "print(a[2])"
      ]
    },
    {
      "cell_type": "code",
      "execution_count": null,
      "metadata": {
        "colab": {
          "base_uri": "https://localhost:8080/"
        },
        "id": "8lXlQXy1RW7b",
        "outputId": "c709c6cd-c092-4934-fb81-3ab8e116212b"
      },
      "outputs": [
        {
          "name": "stdout",
          "output_type": "stream",
          "text": [
            "B\n"
          ]
        }
      ],
      "source": [
        "a = \"Batman\"\n",
        "print(a[0])"
      ]
    },
    {
      "cell_type": "markdown",
      "metadata": {
        "id": "pwlMYo6XR6HB"
      },
      "source": [
        "### **Un Ciclo sobre una Cadena de Texto**\n",
        "<p>\n",
        "\n",
        "Dado que las cadenas son matrices, podemos recorrer los caracteres de una cadena, con un ciclo `for`.\n",
        "\n",
        "```python\n",
        "for x in \"batman\":\n",
        "    print(x)\n",
        "```\n",
        "Vamos a aprender sobre ciclos a fondo en la seccion Ciclos\n",
        "\n",
        "</p>"
      ]
    },
    {
      "cell_type": "code",
      "execution_count": null,
      "metadata": {
        "colab": {
          "base_uri": "https://localhost:8080/"
        },
        "id": "_AQNWMo7Sz32",
        "outputId": "36b1a326-9935-4936-bf33-b75c3be4b0d0"
      },
      "outputs": [
        {
          "name": "stdout",
          "output_type": "stream",
          "text": [
            "b\n",
            "a\n",
            "t\n",
            "m\n",
            "a\n",
            "n\n"
          ]
        }
      ],
      "source": [
        "for x in \"batman\":\n",
        "    print(x)"
      ]
    },
    {
      "cell_type": "markdown",
      "metadata": {
        "id": "W7Lr5vRoTBni"
      },
      "source": [
        "### **Funciones Sobre Cadenas de Texto**\n",
        "<p>\n",
        "\n",
        "Muchas funciones integradas de Python se pueden aplicar a cadenas de texto, a continuación veremos las más utilizadas.\n",
        "\n",
        "*   Detallar el Largo de una cadena de texto:\n",
        ">*   `len()` retorna el largo de una cadena de texto\n",
        "\n",
        "*   Comprobar si un carácter se encuentra en una cadena de texto:\n",
        ">*   `in`\n",
        "\n",
        "*   Comprobar si un carácter no se encuentra en una cadena de texto:\n",
        ">*   `not in`\n",
        "\n",
        "A continuación veremos un ejemplo de cada uno:\n",
        "\n",
        "</p>"
      ]
    },
    {
      "cell_type": "code",
      "execution_count": null,
      "metadata": {
        "colab": {
          "base_uri": "https://localhost:8080/"
        },
        "id": "Izq1ibA_VAvl",
        "outputId": "7c877f45-6885-404d-f859-90c56dc069e5"
      },
      "outputs": [
        {
          "name": "stdout",
          "output_type": "stream",
          "text": [
            "42\n",
            "o\n"
          ]
        }
      ],
      "source": [
        "texto = \"Batman no vuela pero es todo un filántropo\"\n",
        "print(len(texto))\n",
        "print(texto[42-1])"
      ]
    },
    {
      "cell_type": "code",
      "execution_count": null,
      "metadata": {
        "colab": {
          "base_uri": "https://localhost:8080/"
        },
        "id": "7KURwd64UfTM",
        "outputId": "21a705e8-6b5f-4bee-a7ab-715d515fcf79"
      },
      "outputs": [
        {
          "name": "stdout",
          "output_type": "stream",
          "text": [
            "True\n"
          ]
        }
      ],
      "source": [
        "texto = \"Batman no vuela pero es todo un filántropo\"\n",
        "print(\"Batman\" in texto)"
      ]
    },
    {
      "cell_type": "code",
      "execution_count": null,
      "metadata": {
        "colab": {
          "base_uri": "https://localhost:8080/"
        },
        "id": "f-HcsgRPUUI9",
        "outputId": "c2439a9e-ff32-4c30-f479-5119e47f065d"
      },
      "outputs": [
        {
          "name": "stdout",
          "output_type": "stream",
          "text": [
            "True\n"
          ]
        }
      ],
      "source": [
        "texto = \"Batman no vuela pero es todo un filántropo\"\n",
        "print(\"Superman\" not in texto)"
      ]
    },
    {
      "cell_type": "code",
      "execution_count": null,
      "metadata": {
        "colab": {
          "base_uri": "https://localhost:8080/"
        },
        "id": "SZCUAtauUC1E",
        "outputId": "1a949462-f588-4e20-f2c5-1496a7415c3d"
      },
      "outputs": [
        {
          "name": "stdout",
          "output_type": "stream",
          "text": [
            "Superman no está presente\n"
          ]
        }
      ],
      "source": [
        "texto = \"Batman no vuela pero es todo un filántropo\"\n",
        "if \"Superman\" not in texto:\n",
        "  print(\"Superman no está presente\")"
      ]
    },
    {
      "cell_type": "markdown",
      "metadata": {
        "id": "sNYkqPegWNS1"
      },
      "source": [
        "### **Slicing (Rebanar)**\n",
        "<p>\n",
        "\n",
        "Python tinen en su repertorio de acciones una muy poderosa característica y es la de devolver un rango de caracteres utilizando la sintaxis denominada \"Slicing\" o de rebanado.\n",
        "Se debe especificar el inicio y el final con el símbolo de dos puntos `:` para devolver una parte de la cadena de texto.\n",
        "\n",
        "*   Especificando el inicio y el final, por ejemplo comenzando en la posición 2 y terminando en la posición 5 sin incluirla, nótese que el primer carácter es cero.\n",
        ">*   ```python\n",
        "texto = \"Batman no vuela pero es todo un filántropo\"\n",
        "print(texto[2:5])\n",
        "```\n",
        "\n",
        "*   No especificando el inicio y detallando el final, obtiene los datos desde el inicio hasta el valor especificado sin incluirlo.\n",
        ">*   ```python\n",
        "texto = \"Batman no vuela pero es todo un filántropo\"\n",
        "print(texto[:5])\n",
        "```\n",
        "\n",
        "*   No especificando el final y detallando el inicio, obtiene los datos desde el valor especificado hasta el final.\n",
        ">*   ```python\n",
        "texto = \"Batman no vuela pero es todo un filántropo\"\n",
        "print(texto[2:])\n",
        "```\n",
        "\n",
        "*   El indexado negativo detalla el comienzo desde el final hacia el inicio utilizando números negativos. Nótese que el slicing negativo comienza en -1, siendo esta la penúltima posición o la segunda de atrás hacia adelante. Para realizar un slicing negativo desde el final, no registrar el final como el último ejemplo.\n",
        ">*   ```python\n",
        "texto = \"Batman no vuela pero es todo un filántropo\"\n",
        "print(texto[-5:-2])\n",
        "Desde el final hasta la posicion -5\n",
        "texto = \"Batman no vuela pero es todo un filántropo\"\n",
        "print(texto[-5:])\n",
        "```\n",
        "</p>"
      ]
    },
    {
      "cell_type": "code",
      "execution_count": null,
      "metadata": {
        "colab": {
          "base_uri": "https://localhost:8080/"
        },
        "id": "LtrJJPpcXRt5",
        "outputId": "06f241b9-c193-4a4b-e5df-39065d1a986d"
      },
      "outputs": [
        {
          "name": "stdout",
          "output_type": "stream",
          "text": [
            "tma\n"
          ]
        }
      ],
      "source": [
        "texto = \"Batman no vuela pero es todo un filántropo\"\n",
        "       # 012345\n",
        "print(texto[2:5])"
      ]
    },
    {
      "cell_type": "code",
      "execution_count": null,
      "metadata": {
        "colab": {
          "base_uri": "https://localhost:8080/"
        },
        "id": "9djUZoFqaqY0",
        "outputId": "72fc636b-7b7a-42a4-b1c3-a7fd6672cffb"
      },
      "outputs": [
        {
          "name": "stdout",
          "output_type": "stream",
          "text": [
            "Batma\n"
          ]
        }
      ],
      "source": [
        "texto = \"Batman no vuela pero es todo un filántropo\"\n",
        "print(texto[:5])"
      ]
    },
    {
      "cell_type": "code",
      "execution_count": null,
      "metadata": {
        "colab": {
          "base_uri": "https://localhost:8080/"
        },
        "id": "6jqUxW2xatGF",
        "outputId": "3e9cd85d-7f4e-4656-af6d-6ceefb4db652"
      },
      "outputs": [
        {
          "name": "stdout",
          "output_type": "stream",
          "text": [
            "tman no vuela pero es todo un filántropo\n"
          ]
        }
      ],
      "source": [
        "texto = \"Batman no vuela pero es todo un filántropo\"\n",
        "print(texto[2:])"
      ]
    },
    {
      "cell_type": "code",
      "execution_count": null,
      "metadata": {
        "colab": {
          "base_uri": "https://localhost:8080/"
        },
        "id": "gWFjz_uYaup-",
        "outputId": "97a2cff5-aaf6-438f-d1eb-13ade3128ce8"
      },
      "outputs": [
        {
          "name": "stdout",
          "output_type": "stream",
          "text": [
            "filántrop\n"
          ]
        }
      ],
      "source": [
        "texto = \"Batman no vuela pero es todo un filántropo\"\n",
        "print(texto[-10:-1])"
      ]
    },
    {
      "cell_type": "code",
      "execution_count": null,
      "metadata": {
        "colab": {
          "base_uri": "https://localhost:8080/"
        },
        "id": "1EfBw7hva753",
        "outputId": "d0c60a99-9406-497b-941b-2dbe1c11a6af"
      },
      "outputs": [
        {
          "name": "stdout",
          "output_type": "stream",
          "text": [
            "filántropo\n"
          ]
        }
      ],
      "source": [
        "texto = \"Batman no vuela pero es todo un filántropo\"\n",
        "print(texto[-10:])"
      ]
    },
    {
      "cell_type": "markdown",
      "metadata": {
        "id": "iUhug6oi_F6m"
      },
      "source": [
        "### **Modificaciones sobre Strings**\n",
        "<p>\n",
        "\n",
        "Python tinen en su repertorio de funciones, algunas muy útiles para la modificación de strings, es de anotar que las funciones son relacionadas a la variable y se detallan con un punto luego de la variable tipo string y estas funciones se detallan a continuación:\n",
        "\n",
        "*   Mayúsculas, convertir todo el texto de un string a mayúsculas usando la función `upper()`.\n",
        ">*   ```python\n",
        "texto = \"Batman no vuela pero es todo un filántropo\"\n",
        "print(texto.upper())\n",
        "```\n",
        "\n",
        "*   Minúsculas, convertir todo el texto de un string a minúsculas usando la función `lower()`.\n",
        ">*   ```python\n",
        "texto = \"Batman no vuela pero es todo un filántropo\"\n",
        "print(texto.lower())\n",
        "```\n",
        "*   Espacios en blanco, para remover los espacios en blanco utilizamos la función `strip()`.\n",
        ">*   ```python\n",
        "texto = \"Batman no vuela pero es todo un filántropo\"\n",
        "print(texto.strip())\n",
        "```\n",
        "\n",
        "*   Reemplazar un carácter, para reemplazar un carácter se usa la función  `replace()` en donde recibe dos parámetros, el primero es el carácter a buscar y el segundo el nuevo valor a reemplazar.\n",
        ">*   ```python\n",
        "texto = \"Batman no vuela pero es todo un filántropo\"\n",
        "print(texto.replace('B', 'V'))\n",
        "```\n",
        "\n",
        "*   Dividir un string, usando la función `split()` y detallando el carácter de separación como un parámetro se realiza la división en $n$ cantidades las cuales se asignan a una lista.\n",
        ">*   ```python\n",
        "texto = \"Batman no vuela, pero es todo un filántropo\"\n",
        "print(texto.split(','))\n",
        "```\n",
        "\n",
        "Estas funciones detalladas previamente son los más utilizados, las variables tipo texto presentan las siguientes funciones para utilizar.\n",
        "\n",
        "<table>\n",
        "   <tbody>\n",
        "      <tr>\n",
        "         <th>Método</th>\n",
        "         <th>Descripción</th>\n",
        "      </tr>\n",
        "      <tr>\n",
        "         <td><a href=\"https://docs.python.org/3.9/library/stdtypes.html#text-sequence-type-str\">capitalize()</a></td>\n",
        "         <td>Convierte el primer\n",
        "             carácter a mayúsculas\n",
        "         </td>\n",
        "      </tr>\n",
        "      <tr>\n",
        "         <td><a href=\"https://docs.python.org/3.9/library/stdtypes.html#text-sequence-type-str\">casefold()</a></td>\n",
        "         <td>Convierte el string en\n",
        "             minúsculas\n",
        "         </td>\n",
        "      </tr>\n",
        "      <tr>\n",
        "         <td><a href=\"https://docs.python.org/3.9/library/stdtypes.html#text-sequence-type-str\">center()</a></td>\n",
        "         <td>Retorna un string centrado\n",
        "         </td>\n",
        "      </tr>\n",
        "      <tr>\n",
        "         <td><a href=\"https://docs.python.org/3.9/library/stdtypes.html#text-sequence-type-str\">count()</a></td>\n",
        "         <td>Devuelve el número de\n",
        "             veces que ocurre un carácter en un string\n",
        "         </td>\n",
        "      </tr>\n",
        "      <tr>\n",
        "         <td><a href=\"https://docs.python.org/3.9/library/stdtypes.html#text-sequence-type-str\">encode()</a></td>\n",
        "         <td>Retorna un string codificado\n",
        "         </td>\n",
        "      </tr>\n",
        "      <tr>\n",
        "         <td><a href=\"https://docs.python.org/3.9/library/stdtypes.html#text-sequence-type-str\">endswith()</a></td>\n",
        "         <td>Retorna verdadero si el string termina\n",
        "\t\t en un carácter especificado\n",
        "         </td>\n",
        "      </tr>\n",
        "      <tr>\n",
        "         <td><a href=\"https://docs.python.org/3.9/library/stdtypes.html#text-sequence-type-str\">expandtabs()</a></td>\n",
        "         <td>Determina el tamaño\n",
        "            del string\n",
        "         </td>\n",
        "      </tr>\n",
        "      <tr>\n",
        "         <td><a href=\"https://docs.python.org/3.9/library/stdtypes.html#text-sequence-type-str\">find()</a></td>\n",
        "         <td>Busca en la cadena un\n",
        "             valor especificado y devuelve la posición en donde se encontró\n",
        "         </td>\n",
        "      </tr>\n",
        "      <tr>\n",
        "         <td><a href=\"https://docs.python.org/3.9/library/stdtypes.html#text-sequence-type-str\">format()</a></td>\n",
        "         <td>Formatea valores específicos\n",
        "             en el string\n",
        "         </td>\n",
        "      </tr>\n",
        "      <tr>\n",
        "         <td><a href=\"https://docs.python.org/3.9/library/stdtypes.html#text-sequence-type-str\">format_map()</a></td>\n",
        "         <td>Formatea valores específicos\n",
        "             en el string\n",
        "         </td>\n",
        "      </tr>\n",
        "      <tr>\n",
        "         <td><a href=\"https://docs.python.org/3.9/library/stdtypes.html#text-sequence-type-str\">index()</a></td>\n",
        "         <td>Busca en el string\n",
        "             para un valor especifico y devuelve la posición de donde se encontró\n",
        "         </td>\n",
        "      </tr>\n",
        "      <tr>\n",
        "         <td><a href=\"https://docs.python.org/3.9/library/stdtypes.html#text-sequence-type-str\">isalnum()</a></td>\n",
        "         <td>Devuelve Verdadero si todo\n",
        "             los caracteres de la cadena son alfanuméricos\n",
        "         </td>\n",
        "      </tr>\n",
        "      <tr>\n",
        "         <td><a href=\"https://docs.python.org/3.9/library/stdtypes.html#text-sequence-type-str\">isalpha()</a></td>\n",
        "         <td>Devuelve Verdadero si todos\n",
        "             los caracteres de la cadena son alfabéticos\n",
        "         </td>\n",
        "      </tr>\n",
        "      <tr>\n",
        "         <td><a href=\"https://docs.python.org/3.9/library/stdtypes.html#text-sequence-type-str\">isdecimal()</a></td>\n",
        "         <td>Devuelve Verdadero si todos\n",
        "             los caracteres de la cadena son decimales\n",
        "         </td>\n",
        "      </tr>\n",
        "      <tr>\n",
        "         <td><a href=\"https://docs.python.org/3.9/library/stdtypes.html#text-sequence-type-str\">isdigit()</a></td>\n",
        "         <td>Devuelve Verdadero si todos\n",
        "             los caracteres de la cadena son dígitos\n",
        "         </td>\n",
        "      </tr>\n",
        "      <tr>\n",
        "         <td><a href=\"https://docs.python.org/3.9/library/stdtypes.html#text-sequence-type-str\">isidentifier()</a></td>\n",
        "         <td>Devuelve Verdadero si todos\n",
        "            los caracteres de la cadena son [identifier](https://docs.python.org/3.9/reference/lexical_analysis.html#identifiers)\n",
        "         </td>\n",
        "      </tr>\n",
        "      <tr>\n",
        "         <td><a href=\"https://docs.python.org/3.9/library/stdtypes.html#text-sequence-type-str\">islower()</a></td>\n",
        "         <td>Devuelve Verdadero si todos\n",
        "             los caracteres de la cadena son minúsculas\n",
        "         </td>\n",
        "      </tr>\n",
        "      <tr>\n",
        "         <td><a href=\"https://docs.python.org/3.9/library/stdtypes.html#text-sequence-type-str\">isnumeric()</a></td>\n",
        "         <td>Devuelve Verdadero si todos\n",
        "             los caracteres de la cadena son números\n",
        "         </td>\n",
        "      </tr>\n",
        "      <tr>\n",
        "         <td><a href=\"https://docs.python.org/3.9/library/stdtypes.html#text-sequence-type-str\">isprintable()</a></td>\n",
        "         <td>Devuelve Verdadero si todos\n",
        "             los caracteres de la cadena son imprimibles\n",
        "         </td>\n",
        "      </tr>\n",
        "      <tr>\n",
        "         <td><a href=\"https://docs.python.org/3.9/library/stdtypes.html#text-sequence-type-str\">isspace()</a></td>\n",
        "         <td>Devuelve Verdadero si todos\n",
        "             los caracteres de la cadena son espacios en blanco\n",
        "         </td>\n",
        "      </tr>\n",
        "      <tr>\n",
        "         <td><a href=\"https://docs.python.org/3.9/library/stdtypes.html#text-sequence-type-str\">istitle()</a></td>\n",
        "         <td>Retorna Verdadero si el string sigue las\n",
        "            reglas de un titulo\n",
        "         </td>\n",
        "      </tr>\n",
        "      <tr>\n",
        "         <td><a href=\"https://docs.python.org/3.9/library/stdtypes.html#text-sequence-type-str\">isupper()</a></td>\n",
        "         <td>Devuelve Verdadero si todos\n",
        "             los caracteres de la cadena son mayúsculas\n",
        "         </td>\n",
        "      </tr>\n",
        "      <tr>\n",
        "         <td><a href=\"https://docs.python.org/3.9/library/stdtypes.html#text-sequence-type-str\">join()</a></td>\n",
        "         <td>Une los elementos de\n",
        "             un elemento iterable hasta el final del string\n",
        "         </td>\n",
        "      </tr>\n",
        "      <tr>\n",
        "         <td><a href=\"https://docs.python.org/3.9/library/stdtypes.html#text-sequence-type-str\">ljust()</a></td>\n",
        "         <td>Devuelve un justificado a la izquierda\n",
        "             del string\n",
        "         </td>\n",
        "      </tr>\n",
        "      <tr>\n",
        "         <td><a href=\"https://docs.python.org/3.9/library/stdtypes.html#text-sequence-type-str\">lower()</a></td>\n",
        "         <td>Convierte el string a minúsculas\n",
        "         </td>\n",
        "      </tr>\n",
        "      <tr>\n",
        "         <td><a href=\"https://docs.python.org/3.9/library/stdtypes.html#text-sequence-type-str\">lstrip()</a></td>\n",
        "         <td>Retorna un corte a la izquierda\n",
        "            del string\n",
        "         </td>\n",
        "      </tr>\n",
        "      <tr>\n",
        "         <td><a href=\"https://docs.python.org/3.9/library/stdtypes.html#text-sequence-type-str\">maketrans()</a></td>\n",
        "         <td>Retorna una tabla usable con la función str.translate()\n",
        "         </td>\n",
        "      </tr>\n",
        "      <tr>\n",
        "         <td><a href=\"https://docs.python.org/3.9/library/stdtypes.html#text-sequence-type-str\">partition()</a></td>\n",
        "         <td>Retorna una tupla\n",
        "            en donde un string es partido en tres\n",
        "         </td>\n",
        "      </tr>\n",
        "      <tr>\n",
        "         <td><a href=\"https://docs.python.org/3.9/library/stdtypes.html#text-sequence-type-str\">replace()</a></td>\n",
        "         <td>Retorna un string\n",
        "            en donde se especifica el valor a reemplazar\n",
        "         </td>\n",
        "      </tr>\n",
        "      <tr>\n",
        "         <td><a href=\"https://docs.python.org/3.9/library/stdtypes.html#text-sequence-type-str\">rfind()</a></td>\n",
        "         <td>Busca en el string un valor especifico\n",
        "            y retorna la posición en donde se encuentra\n",
        "         </td>\n",
        "      </tr>\n",
        "      <tr>\n",
        "         <td><a href=\"https://docs.python.org/3.9/library/stdtypes.html#text-sequence-type-str\">rindex()</a></td>\n",
        "         <td>Busca en el string un valor especifico\n",
        "            y retorna la última posición donde se ubica\n",
        "         </td>\n",
        "      </tr>\n",
        "      <tr>\n",
        "         <td><a href=\"https://docs.python.org/3.9/library/stdtypes.html#text-sequence-type-str\">rjust()</a></td>\n",
        "         <td>Devuelve un justificado a la derecha\n",
        "             del string\n",
        "         </td>\n",
        "      </tr>\n",
        "      <tr>\n",
        "         <td><a href=\"https://docs.python.org/3.9/library/stdtypes.html#text-sequence-type-str\">rpartition()</a></td>\n",
        "         <td>Retorna una tupla\n",
        "            en donde un string es partido en tres, las dos primeras en blanco y la última con el string\n",
        "         </td>\n",
        "      </tr>\n",
        "      <tr>\n",
        "         <td><a href=\"https://docs.python.org/3.9/library/stdtypes.html#text-sequence-type-str\">rsplit()</a></td>\n",
        "         <td>Divide el string\n",
        "            en el separador y devuelve una lista\n",
        "         </td>\n",
        "      </tr>\n",
        "      <tr>\n",
        "         <td><a href=\"https://docs.python.org/3.9/library/stdtypes.html#text-sequence-type-str\">rstrip()</a></td>\n",
        "         <td>Retorna un corte a la derecha\n",
        "            del string\n",
        "         </td>\n",
        "      </tr>\n",
        "      <tr>\n",
        "         <td><a href=\"https://docs.python.org/3.9/library/stdtypes.html#text-sequence-type-str\">split()</a></td>\n",
        "         <td>Divide el string\n",
        "            en el separador especifico y retorna una lista\n",
        "         </td>\n",
        "      </tr>\n",
        "      <tr>\n",
        "         <td><a href=\"https://docs.python.org/3.9/library/stdtypes.html#text-sequence-type-str\">splitlines()</a></td>\n",
        "         <td>Divide el string\n",
        "            en particiones de línea y devuelve una lista\n",
        "         </td>\n",
        "      </tr>\n",
        "      <tr>\n",
        "         <td><a href=\"https://docs.python.org/3.9/library/stdtypes.html#text-sequence-type-str\">startswith()</a></td>\n",
        "         <td>Retorna Verdadero si  \n",
        "            la cadena comienza con el valor especificado\n",
        "         </td>\n",
        "      </tr>\n",
        "      <tr>\n",
        "         <td><a href=\"https://docs.python.org/3.9/library/stdtypes.html#text-sequence-type-str\">strip()</a></td>\n",
        "         <td>Retorna una versión sin espacios del string</td>\n",
        "      </tr>\n",
        "      <tr>\n",
        "         <td><a href=\"https://docs.python.org/3.9/library/stdtypes.html#text-sequence-type-str\">swapcase()</a></td>\n",
        "         <td>Invierte la condición\n",
        "            de mayúsculas y minúsculas\n",
        "         </td>\n",
        "      </tr>\n",
        "      <tr>\n",
        "         <td><a href=\"https://docs.python.org/3.9/library/stdtypes.html#text-sequence-type-str\">title()</a></td>\n",
        "         <td>Convierte a formato título un string\n",
        "         </td>\n",
        "      </tr>\n",
        "      <tr>\n",
        "         <td><a href=\"https://docs.python.org/3.9/library/stdtypes.html#text-sequence-type-str\">translate()</a></td>\n",
        "         <td>Retorna un string traducido\n",
        "         </td>\n",
        "      </tr>\n",
        "      <tr>\n",
        "         <td><a href=\"https://docs.python.org/3.9/library/stdtypes.html#text-sequence-type-str\">upper()</a></td>\n",
        "         <td>Convierte un string a mayúsculas\n",
        "         </td>\n",
        "      </tr>\n",
        "      <tr>\n",
        "         <td><a href=\"https://docs.python.org/3.9/library/stdtypes.html#text-sequence-type-str\">zfill()</a></td>\n",
        "         <td>Rellena el string\n",
        "            con un valor especificado de números de 0 valores al inicio\n",
        "         </td>\n",
        "      </tr>\n",
        "   </tbody>\n",
        "</table>\n",
        "\n",
        "</p>"
      ]
    },
    {
      "cell_type": "code",
      "execution_count": null,
      "metadata": {
        "colab": {
          "base_uri": "https://localhost:8080/"
        },
        "id": "D9PNqsty9WP3",
        "outputId": "a28c6052-236c-4cec-bdce-2fef403d1560"
      },
      "outputs": [
        {
          "name": "stdout",
          "output_type": "stream",
          "text": [
            "BATMAN NO VUELA PERO ES TODO UN FILÁNTROPO\n",
            "Batman no vuela pero es todo un filántropo\n",
            "post conversion a mayusculas\n",
            "BATMAN NO VUELA PERO ES TODO UN FILÁNTROPO\n"
          ]
        }
      ],
      "source": [
        "texto = \"Batman no vuela pero es todo un filántropo\"\n",
        "print(texto.upper()) #no convierte la cadena de texto, solo muestra el resultado en mayusculas, el espacio en memoria permance igual\n",
        "print(texto)\n",
        "texto = texto.upper()\n",
        "print('post conversion a mayusculas')\n",
        "print(texto)"
      ]
    },
    {
      "cell_type": "code",
      "execution_count": null,
      "metadata": {
        "colab": {
          "base_uri": "https://localhost:8080/"
        },
        "id": "H8_TIB9w9a-x",
        "outputId": "e8ba2508-c6ad-41e3-a9b8-3862cd1bfba5"
      },
      "outputs": [
        {
          "name": "stdout",
          "output_type": "stream",
          "text": [
            "batman no vuela pero es todo un filántropo\n"
          ]
        }
      ],
      "source": [
        "texto = \"Batman no vuela pero es todo un filántropo\"\n",
        "print(texto.lower())"
      ]
    },
    {
      "cell_type": "code",
      "execution_count": null,
      "metadata": {
        "colab": {
          "base_uri": "https://localhost:8080/"
        },
        "id": "K4PC8inK9fgO",
        "outputId": "91311b1a-0c1f-4132-c6be-eaa2b949faa4"
      },
      "outputs": [
        {
          "name": "stdout",
          "output_type": "stream",
          "text": [
            "Batman   no vuela pero es todo un filántropo\n"
          ]
        }
      ],
      "source": [
        "texto = \" Batman   no vuela pero es todo un filántropo\"\n",
        "print(texto.strip())"
      ]
    },
    {
      "cell_type": "code",
      "execution_count": null,
      "metadata": {
        "colab": {
          "base_uri": "https://localhost:8080/"
        },
        "id": "xPoNNoL-9hg8",
        "outputId": "5fe17077-bc2a-4b6e-ae76-f00662b565ae"
      },
      "outputs": [
        {
          "name": "stdout",
          "output_type": "stream",
          "text": [
            "B$tm$n no vuel$ pero es todo un filántropo\n"
          ]
        }
      ],
      "source": [
        "texto = \"Batman no vuela pero es todo un filántropo\"\n",
        "print(texto.replace('a', '$')) # IN-PLACE - si modifica los valores de la variable\n"
      ]
    },
    {
      "cell_type": "code",
      "execution_count": null,
      "metadata": {
        "colab": {
          "base_uri": "https://localhost:8080/"
        },
        "id": "Vgce4QN49jLu",
        "outputId": "fa0d84dd-5bf8-4abd-a710-4a459c1f5ddb"
      },
      "outputs": [
        {
          "name": "stdout",
          "output_type": "stream",
          "text": [
            "['Batman no vuela', ' pero es todo un filántropo']\n"
          ]
        }
      ],
      "source": [
        "texto = \"Batman no vuela, pero es todo un filántropo\"\n",
        "print(texto.split(','))"
      ]
    },
    {
      "cell_type": "markdown",
      "metadata": {
        "id": "NcXLsnhXQ9EL"
      },
      "source": [
        "### **La Función `format()`**\n",
        "<p>\n",
        "\n",
        "Realiza una operación de formato a variables tipo string. La cadena en la que se llama a este método puede contener texto literal o campos de reemplazo delimitados por llaves `{}`. Cada campo de reemplazo contiene el índice numérico de un argumento posicional o el nombre de un argumento de palabra clave. Devuelve una copia de la cadena donde cada campo de reemplazo se reemplaza con el valor de cadena del argumento correspondiente.\n",
        "\n",
        "El método `format()` toma los argumentos pasados, los formatea y los coloca en la cadena donde están los marcadores de posición `{}`\n",
        "\n",
        "*   Insertar variables no string en cadenas de texto usando `format()`.\n",
        ">*   ```python\n",
        "num = 25\n",
        "texto = \"Superman tiene 33 años y Batman tiene {}\"\n",
        "print(texto.format(num))\n",
        "```\n",
        "\n",
        "*   El método `format()` toma un número ilimitado de argumentos y se colocan en los respectivos marcadores de posición:\n",
        ">*   ```python\n",
        "batimovil = 3\n",
        "capas = 16\n",
        "botas = 22\n",
        "texto = \"Batman tiene un total de {} batimoviles, {} capas y {} botas para vigilar por la noche.\"\n",
        "print(texto.format(batimovil, capas,botas))\n",
        "```\n",
        "\n",
        "*   Se pueden utilizar números de índice {0} para asegurarse de que los argumentos se coloquen en los marcadores de posición correctos:\n",
        ">*   ```python\n",
        "batimovil = 3\n",
        "capas = 16\n",
        "botas = 22\n",
        "texto = \"Batman tiene un total de {2} batimoviles, {1} capas y {0} botas para vigilar por la noche.\"\n",
        "print(texto.format(batimovil, capas, botas))\n",
        "```\n",
        "\n",
        "*   Se pueden utilizar números de índice {0} para asegurarse de que los argumentos se coloquen en los marcadores de posición correctos y se permite repetir:\n",
        ">*   ```python\n",
        "batimovil = 3\n",
        "capas = 16\n",
        "botas = 22\n",
        "texto = \"Batman tiene un total de {0} batimoviles, {1} capas y {1} botas para vigilar por la noche.\"\n",
        "print(texto.format(batimovil, capas, botas))\n",
        "```\n",
        "\n",
        "*   El formato numérico se describe en la siguiente tabla:\n",
        "<table>\n",
        "\t<tbody>\n",
        "\t\t<tr>\n",
        "\t\t\t<th>Número</th>\n",
        "\t\t\t<th>Formato</th>\n",
        "\t\t\t<th>Salida</th>\n",
        "\t\t\t<th>Descripción</th>\n",
        "\t\t</tr>\n",
        "\t\t<tr>\n",
        "\t\t\t<td>3.1415926</td>\n",
        "\t\t\t<td>`{:.2f}`</td>\n",
        "\t\t\t<td>3.14</td>\n",
        "\t\t\t<td>Formato con dos posiciones decimales</td>\n",
        "\t\t</tr>\n",
        "\t\t<tr>\n",
        "\t\t\t<td>3.1415926</td>\n",
        "\t\t\t<td>`{:+.2f}`</td>\n",
        "\t\t\t<td>+3.14</td>\n",
        "\t\t\t<td>Formato con dos posiciones decimales y signo</td>\n",
        "\t\t</tr>\n",
        "\t\t<tr>\n",
        "\t\t\t<td>-1</td>\n",
        "\t\t\t<td>`{:+.2f}`</td>\n",
        "\t\t\t<td>-1.00</td>\n",
        "\t\t\t<td>Formato con dos posiciones decimales y signo</td>\n",
        "\t\t</tr>\n",
        "\t\t<tr>\n",
        "\t\t\t<td>2.71828</td>\n",
        "\t\t\t<td>`{:.0f}`</td>\n",
        "\t\t\t<td>3</td>\n",
        "\t\t\t<td>Formato con dos posiciones decimales y signo</td>\n",
        "\t\t</tr>\n",
        "\t\t<tr>\n",
        "\t\t\t<td>5</td>\n",
        "\t\t\t<td>`{:0>2d}`</td>\n",
        "\t\t\t<td>05</td>\n",
        "\t\t\t<td>Ajustar con ceros (Izquierda, total de 2 dígitos)</td>\n",
        "\t\t</tr>\n",
        "\t\t<tr>\n",
        "\t\t\t<td>5</td>\n",
        "\t\t\t<td>`{:x<4d}`</td>\n",
        "\t\t\t<td>5xxx</td>\n",
        "\t\t\t<td>Ajustar con x (Derecha, total de 4 carácteres)</td>\n",
        "\t\t</tr>\n",
        "\t\t<tr>\n",
        "\t\t\t<td>10</td>\n",
        "\t\t\t<td>`{:x<4d}`</td>\n",
        "\t\t\t<td>10xx</td>\n",
        "\t\t\t<td>Ajustar con x (Derecha, total de 4 carácteres)</td>\n",
        "\t\t</tr>\n",
        "\t\t<tr>\n",
        "\t\t\t<td>1000000</td>\n",
        "\t\t\t<td>`{:,}`</td>\n",
        "\t\t\t<td>1,000,000</td>\n",
        "\t\t\t<td>Formato numérico con separador de coma</td>\n",
        "\t\t</tr>\n",
        "\t\t<tr>\n",
        "\t\t\t<td>1000000.25</td>\n",
        "\t\t\t<td>`{:,.2f}`</td>\n",
        "\t\t\t<td>1,000,000.25</td>\n",
        "\t\t\t<td>Formato numérico con separador de coma y decimales</td>\n",
        "\t\t</tr>\n",
        "\t\t<tr>\n",
        "\t\t\t<td>0.25</td>\n",
        "\t\t\t<td>`{:.2%}`</td>\n",
        "\t\t\t<td>25.00%</td>\n",
        "\t\t\t<td>Formato porcentaje con dos decimales</td>\n",
        "\t\t</tr>\n",
        "\t\t<tr>\n",
        "\t\t\t<td>1000000000</td>\n",
        "\t\t\t<td>`{:.2e}`</td>\n",
        "\t\t\t<td>1.00e+09</td>\n",
        "\t\t\t<td>Notación exponencial</td>\n",
        "\t\t</tr>\n",
        "\t\t<tr>\n",
        "\t\t\t<td>13</td>\n",
        "\t\t\t<td>`{:10d}`</td>\n",
        "\t\t\t<td>13</td>\n",
        "\t\t\t<td>Alineación derecha (por defecto, ancho 10)</td>\n",
        "\t\t</tr>\n",
        "\t\t<tr>\n",
        "\t\t\t<td>13</td>\n",
        "\t\t\t<td>`{:<10d}`</td>\n",
        "\t\t\t<td>13</td>\n",
        "\t\t\t<td>Alineación izquierda (ancho 10)</td>\n",
        "\t\t</tr>\n",
        "\t\t<tr>\n",
        "\t\t\t<td>13</td>\n",
        "\t\t\t<td>`{:^10d}`</td>\n",
        "\t\t\t<td>13</td>\n",
        "\t\t\t<td>Alineación centro (ancho 10)</td>\n",
        "\t\t</tr>\n",
        "\t</tbody>\n",
        "</table>\n",
        "\n",
        "</p>"
      ]
    },
    {
      "cell_type": "code",
      "execution_count": null,
      "metadata": {
        "colab": {
          "base_uri": "https://localhost:8080/"
        },
        "id": "QZopM35aSsdW",
        "outputId": "744f9a63-34d1-419a-fb57-8472b33c928b"
      },
      "outputs": [
        {
          "name": "stdout",
          "output_type": "stream",
          "text": [
            "Superman tiene 33 años y Batman tiene 25\n"
          ]
        }
      ],
      "source": [
        "num = 25\n",
        "texto = \"Superman tiene 33 años y Batman tiene {}\"\n",
        "#funcion format(argumentos posicionales, indexados, 0,1,2,3,...,n)\n",
        "print(texto.format(num))"
      ]
    },
    {
      "cell_type": "code",
      "execution_count": null,
      "metadata": {
        "colab": {
          "base_uri": "https://localhost:8080/"
        },
        "id": "uT_rs3AzTXK4",
        "outputId": "8501fb72-e957-4c47-edf1-064744cb9a71"
      },
      "outputs": [
        {
          "name": "stdout",
          "output_type": "stream",
          "text": [
            "Batman tiene un total de 3 batimoviles, 16 capas y 22 botas para vigilar por la noche.\n"
          ]
        }
      ],
      "source": [
        "batimovil = 3\n",
        "capas = 16\n",
        "botas = 22\n",
        "texto = \"Batman tiene un total de {} batimoviles, {} capas y {} botas para vigilar por la noche.\"\n",
        "print(texto.format(batimovil, capas,botas))"
      ]
    },
    {
      "cell_type": "code",
      "execution_count": null,
      "metadata": {
        "colab": {
          "base_uri": "https://localhost:8080/"
        },
        "id": "JDlz85MrTts0",
        "outputId": "185cb313-b511-4194-f2b8-00c7aa2ac3db"
      },
      "outputs": [
        {
          "name": "stdout",
          "output_type": "stream",
          "text": [
            "Batman tiene un total de 22 batimoviles, 16 capas y 3 botas para vigilar por la noche.\n"
          ]
        }
      ],
      "source": [
        "batimovil = 3\n",
        "capas = 16\n",
        "botas = 22\n",
        "texto = \"Batman tiene un total de {2} batimoviles, {1} capas y {0} botas para vigilar por la noche.\"\n",
        "print(texto.format(batimovil, capas, botas))"
      ]
    },
    {
      "cell_type": "code",
      "execution_count": null,
      "metadata": {
        "colab": {
          "base_uri": "https://localhost:8080/"
        },
        "id": "zMnl3ac2T7qp",
        "outputId": "04af0f59-e759-4af2-f3c0-7767ce4cb341"
      },
      "outputs": [
        {
          "name": "stdout",
          "output_type": "stream",
          "text": [
            "His name is John. John is 36 years old.\n"
          ]
        }
      ],
      "source": [
        "age = 36\n",
        "name = \"John\"\n",
        "txt = \"His name is {1}. {1} is {0} years old.\"\n",
        "print(txt.format(age, name))\n",
        "#                 0     1"
      ]
    },
    {
      "cell_type": "code",
      "execution_count": null,
      "metadata": {
        "colab": {
          "base_uri": "https://localhost:8080/"
        },
        "id": "8SrMYdmuUKal",
        "outputId": "acd51ab2-933b-4a9c-e662-b1ceeea76824"
      },
      "outputs": [
        {
          "name": "stdout",
          "output_type": "stream",
          "text": [
            "Batman tiene un total de 3 batimoviles, 16 capas y 16 botas para vigilar por la noche.\n"
          ]
        }
      ],
      "source": [
        "batimovil = 3\n",
        "capas = 16\n",
        "botas = 22\n",
        "texto = \"Batman tiene un total de {0} batimoviles, {1} capas y {1} botas para vigilar por la noche.\"\n",
        "print(texto.format(batimovil, capas, botas))"
      ]
    },
    {
      "cell_type": "code",
      "execution_count": null,
      "metadata": {
        "colab": {
          "base_uri": "https://localhost:8080/"
        },
        "id": "aTsCgUY6RBoK",
        "outputId": "330f6886-aa20-4196-dbb2-a2e311a0185a"
      },
      "outputs": [
        {
          "name": "stdout",
          "output_type": "stream",
          "text": [
            "value1 = 3.14, value2 = 7.9,1.5\n"
          ]
        },
        {
          "data": {
            "text/plain": [
              "str"
            ]
          },
          "execution_count": 59,
          "metadata": {},
          "output_type": "execute_result"
        }
      ],
      "source": [
        "s3 = 'value1 = {0:.2f}, value2 = {2},{1}'.format(3.1415, 1.5, 7.9)\n",
        "\n",
        "print(s3)\n",
        "type(s3)"
      ]
    },
    {
      "cell_type": "code",
      "execution_count": null,
      "metadata": {
        "colab": {
          "base_uri": "https://localhost:8080/"
        },
        "id": "RPu-dRzqRNeQ",
        "outputId": "018dd16b-dac3-4816-abb1-9261518cbb33"
      },
      "outputs": [
        {
          "name": "stdout",
          "output_type": "stream",
          "text": [
            "Valor = 3.14, value2 = 7.90000,1.50000\n"
          ]
        },
        {
          "data": {
            "text/plain": [
              "str"
            ]
          },
          "execution_count": 62,
          "metadata": {},
          "output_type": "execute_result"
        }
      ],
      "source": [
        "Variable3 = 'Valor = {0:.2f}, value2 = {2:.5f},{1:.5f}'.format(3.1415, 1.5, 7.9)\n",
        "print(Variable3)\n",
        "type(Variable3)"
      ]
    },
    {
      "cell_type": "code",
      "execution_count": null,
      "metadata": {
        "colab": {
          "base_uri": "https://localhost:8080/"
        },
        "id": "BDSRQY-pSVSS",
        "outputId": "0b25570f-1b49-45e5-9dae-56162341b658"
      },
      "outputs": [
        {
          "name": "stdout",
          "output_type": "stream",
          "text": [
            "Las líneas nuevas son indicadas / por \n",
            "los espacios por \t. Los Unicode con  ! \t. \" \t. # \t. $ \t. % \t. & \t. ' \t. (\n",
            "------------------------- SEPARADOR --------------------------\n",
            "Las líneas nuevas son indicada por \\n y los espacios por \\t. r indica raw string \\u0026\n"
          ]
        }
      ],
      "source": [
        "print(\"Las líneas nuevas son indicadas / por \\nlos espacios por \\t. Los Unicode con  \\u0021 \\t. \\u0022 \\t. \\u0023 \\t. \\u0024 \\t. \\u0025 \\t. \\u0026 \\t. \\u0027 \\t. \\u0028\")\n",
        "print('------------------------- SEPARADOR --------------------------')\n",
        "print(r\"Las líneas nuevas son indicada por \\n y los espacios por \\t. r indica raw string \\u0026\")\n",
        "#https://www.fileformat.info/info/unicode/char/1234/index.htm"
      ]
    },
    {
      "cell_type": "code",
      "execution_count": null,
      "metadata": {
        "colab": {
          "base_uri": "https://localhost:8080/"
        },
        "id": "8HlrneKkcxt4",
        "outputId": "10089e33-04ae-4022-a332-f2729dec108b"
      },
      "outputs": [
        {
          "name": "stdout",
          "output_type": "stream",
          "text": [
            "Nombre: Python\n",
            "Número: 2021\n",
            "String: ssss\n"
          ]
        }
      ],
      "source": [
        "variable4=\"Nombre: {}\\nNúmero: {}\\nString: {}\".format(\"Python\", 2021, 4 * \"s\")\n",
        "print(variable4)"
      ]
    },
    {
      "cell_type": "code",
      "execution_count": null,
      "metadata": {
        "colab": {
          "base_uri": "https://localhost:8080/"
        },
        "id": "eEpqn5bujv0b",
        "outputId": "a486dae8-2881-4aea-ad7e-4e5824f1db64"
      },
      "outputs": [
        {
          "name": "stdout",
          "output_type": "stream",
          "text": [
            "Esto es una prueba.\n"
          ]
        }
      ],
      "source": [
        "print(\"Esto {verbo} una {sujeto}.\".format(sujeto = \"prueba\", verbo = \"es\"))"
      ]
    },
    {
      "cell_type": "markdown",
      "metadata": {
        "id": "HU2dohIhbrRY"
      },
      "source": [
        "### **Caracteres de Escape**\n",
        "<p>\n",
        "\n",
        "Para insertar caracteres que son ilegales en una cadena, se deben usar caracteres de escape. Un carácter de escape es una barra invertida `\\` seguida del carácter que desea insertar.\n",
        "Un ejemplo de un carácter ilegal es una comilla doble dentro de una cadena que está rodeada por comillas dobles:\n",
        "\n",
        "*   El siguiente caso presenta un error al tratar de especificar algo en un texto usando comillas dobles.\n",
        ">*   ```python\n",
        "texto = \"Batman \"no vuela\", pero es todo un filantropo\"\n",
        "print(texto)\n",
        "```\n",
        "\n",
        "*   Para solucionar el problema anterior utilizamos el carácter especial `\\`\n",
        ">*   ```python\n",
        "texto = \"Batman \\\"no vuela\\\", pero es todo un filantropo\"\n",
        "print(texto)\n",
        "```\n",
        "</p>\n",
        "<br>\n",
        "<p align=\"center\">\n",
        "Tabla HTML\n",
        "<table align=\"center\">\n",
        "   <tbody>\n",
        "      <tr>\n",
        "         <th>Código</th>\n",
        "         <th>Resultado</th>\n",
        "      </tr>\n",
        "      <tr>\n",
        "         <td>\\'</td>\n",
        "         <td>Comilla sencilla</td>\n",
        "      </tr>\n",
        "      <tr>\n",
        "         <td>\\\\</td>\n",
        "         <td>Backslash</td>\n",
        "      </tr>\n",
        "      <tr>\n",
        "         <td>\\n</td>\n",
        "         <td>Nueva Linea</td>\n",
        "      </tr>\n",
        "      <tr>\n",
        "         <td>\\r</td>\n",
        "         <td>Retorno de carro</td>\n",
        "      </tr>\n",
        "      <tr>\n",
        "         <td>\\t</td>\n",
        "         <td>Tab</td>\n",
        "      </tr>\n",
        "      <tr>\n",
        "         <td>\\b</td>\n",
        "         <td>Backspace</td>\n",
        "      </tr>\n",
        "      <tr>\n",
        "         <td>\\f</td>\n",
        "         <td>Form Feed</td>\n",
        "      </tr>\n",
        "      <tr>\n",
        "         <td>\\ooo</td>\n",
        "         <td>Valor Octal</td>\n",
        "      </tr>\n",
        "      <tr>\n",
        "         <td>\\xhh</td>\n",
        "         <td>Valor Hex</td>\n",
        "      </tr>\n",
        "   </tbody>\n",
        "</table>\n",
        "</p>\n",
        "\n",
        "<br>\n",
        "\n",
        "<p align=\"center\">\n",
        "Tabla Google Colab en Markdown\n",
        "\n",
        "Código | Resultado\n",
        "--- | ---\n",
        "`\\'` | Comilla sencilla\n",
        "`\\\\` | Backslash o barra invertida\n",
        "`\\n` | Nueva Linea\n",
        "`\\r` | Carriage Return o Retorno de carro\n",
        "`\\t` | Tabulador\n",
        "`\\b` | Backspace\n",
        "`\\f` | Form Feed\n",
        "`\\ooo` | Valor Octal\n",
        "`\\xhh` | Valor Hexadecimal\n",
        "\n",
        "\n",
        "</p>"
      ]
    },
    {
      "cell_type": "code",
      "execution_count": null,
      "metadata": {
        "colab": {
          "base_uri": "https://localhost:8080/"
        },
        "id": "CL36a18KAJck",
        "outputId": "785abe36-9b35-4626-911c-dfa0b20b99b1"
      },
      "outputs": [
        {
          "name": "stdout",
          "output_type": "stream",
          "text": [
            "Vamos pa' tu casa\n",
            "Vamos pa' tu casa\n"
          ]
        }
      ],
      "source": [
        "#frase = 'Vamos pa' tu casa'\n",
        "frase = \"Vamos pa' tu casa\"\n",
        "print(frase)\n",
        "\n",
        "frase2 = 'Vamos pa\\' tu casa'\n",
        "print(frase2)"
      ]
    },
    {
      "cell_type": "markdown",
      "metadata": {
        "id": "ZFmz9D0dBRe4"
      },
      "source": [
        "<p>\n",
        "\n",
        "## **Boleanos - Bool**\n",
        "\n",
        "Los booleanos representan uno de dos valores: `True` o `False`.\n",
        "\n",
        "</p>"
      ]
    },
    {
      "cell_type": "markdown",
      "metadata": {
        "id": "zQwV-fp1LC_G"
      },
      "source": [
        "### **Valores booleanos**\n",
        "<p>\n",
        "En programación, a menudo necesita se saber si una expresión es Verdadera o Falsa. Se puede evaluar cualquier expresión en Python y obtener una de dos respuestas, Verdadero o Falso. Cuando se comparan dos valores, la expresión se evalúa y Python devuelve la respuesta booleana.</p>"
      ]
    },
    {
      "cell_type": "code",
      "execution_count": null,
      "metadata": {
        "colab": {
          "base_uri": "https://localhost:8080/"
        },
        "id": "--eCvX-HJ3jR",
        "outputId": "81342a88-bca0-4ca9-da1a-f98e4d79f05e"
      },
      "outputs": [
        {
          "name": "stdout",
          "output_type": "stream",
          "text": [
            "True\n",
            "False\n",
            "False\n"
          ]
        }
      ],
      "source": [
        "print(666 > 6)\n",
        "print(10 == 9)\n",
        "print(10 < 9)"
      ]
    },
    {
      "cell_type": "markdown",
      "metadata": {
        "id": "CfwqAV8ZLKQD"
      },
      "source": [
        "### **La gran mayoría es verdadera**\n",
        "<p>\n",
        "La mayoría de los valores son verdaderos, casi cualquier valor se evalúa como Verdadero si tiene algún tipo de contenido. Cualquier cadena es verdadera, excepto las cadenas vacías. Cualquier número es verdadero, excepto 0. Cualquier lista, tupla, conjunto y diccionario son verdaderos, excepto los vacíos.</p>"
      ]
    },
    {
      "cell_type": "code",
      "execution_count": null,
      "metadata": {
        "colab": {
          "base_uri": "https://localhost:8080/"
        },
        "id": "P-J0dOyrMqca",
        "outputId": "a7324156-855e-469a-fd12-c25a8d21f807"
      },
      "outputs": [
        {
          "name": "stdout",
          "output_type": "stream",
          "text": [
            "True True True\n"
          ]
        }
      ],
      "source": [
        "print(bool(\"abc\"), bool(123), bool([\"apple\", \"cherry\", \"banana\"]))"
      ]
    },
    {
      "cell_type": "markdown",
      "metadata": {
        "id": "Ba6Wp0WsM24c"
      },
      "source": [
        "### **Algunos valores son falsos**\n",
        "<p>\n",
        "\n",
        "De hecho, no hay muchos valores que se evalúen como Falso, excepto los valores vacíos, como `()`, `[]`,` {}`,` \"\"`, el número `0` y el valor `None`. Y, por supuesto, el valor `False` se evalúa como Falso.\n",
        "\n",
        "</p>\n"
      ]
    },
    {
      "cell_type": "code",
      "execution_count": null,
      "metadata": {
        "colab": {
          "base_uri": "https://localhost:8080/"
        },
        "id": "0eGu6DnoNKvl",
        "outputId": "c3c6eeb4-d377-4001-e9c9-51ee17ebf53d"
      },
      "outputs": [
        {
          "name": "stdout",
          "output_type": "stream",
          "text": [
            "False False False False False False False\n"
          ]
        }
      ],
      "source": [
        "print(bool(False), bool(None), bool(0), bool(\"\"), bool(()), bool([]), bool({}))"
      ]
    },
    {
      "cell_type": "markdown",
      "metadata": {
        "id": "-YvvR084uZTb"
      },
      "source": [
        "<p><a name=\"contents\"></a></p>\n",
        "\n",
        "# **Final del Contenido Cuaderno de Práctica 2**\n",
        "## **El cuaderno 3 será exclusivo de operadores y colecciones en Python**"
      ]
    }
  ],
  "metadata": {
    "colab": {
      "provenance": [],
      "include_colab_link": true
    },
    "kernelspec": {
      "display_name": "Python 3.9.7 64-bit",
      "language": "python",
      "name": "python3"
    },
    "language_info": {
      "name": "python",
      "version": "3.9.7"
    },
    "vscode": {
      "interpreter": {
        "hash": "ad2bdc8ecc057115af97d19610ffacc2b4e99fae6737bb82f5d7fb13d2f2c186"
      }
    }
  },
  "nbformat": 4,
  "nbformat_minor": 0
}